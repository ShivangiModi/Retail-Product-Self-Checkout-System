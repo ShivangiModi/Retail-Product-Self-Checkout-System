{
  "nbformat": 4,
  "nbformat_minor": 0,
  "metadata": {
    "colab": {
      "provenance": [],
      "mount_file_id": "1T0hLI72EbCby__RLvXsGVEtx_1sOkXM3",
      "authorship_tag": "ABX9TyPwatOet/SeNU2PKdurzkiF",
      "include_colab_link": true
    },
    "kernelspec": {
      "name": "python3",
      "display_name": "Python 3"
    },
    "language_info": {
      "name": "python"
    }
  },
  "cells": [
    {
      "cell_type": "markdown",
      "metadata": {
        "id": "view-in-github",
        "colab_type": "text"
      },
      "source": [
        "<a href=\"https://colab.research.google.com/github/ShivangiModi/Retail-Product-Self-Checkout-System/blob/main/Retail_Database_Webpage.ipynb\" target=\"_parent\"><img src=\"https://colab.research.google.com/assets/colab-badge.svg\" alt=\"Open In Colab\"/></a>"
      ]
    },
    {
      "cell_type": "code",
      "execution_count": null,
      "metadata": {
        "colab": {
          "base_uri": "https://localhost:8080/"
        },
        "id": "GhanhfKLIdSi",
        "outputId": "8270ea06-571c-4468-a86a-5b35f35026e0"
      },
      "outputs": [
        {
          "output_type": "stream",
          "name": "stdout",
          "text": [
            "Requirement already satisfied: flask in /usr/local/lib/python3.11/dist-packages (3.1.0)\n",
            "Requirement already satisfied: opencv-python in /usr/local/lib/python3.11/dist-packages (4.11.0.86)\n",
            "Requirement already satisfied: torch in /usr/local/lib/python3.11/dist-packages (2.6.0+cu124)\n",
            "Requirement already satisfied: torchvision in /usr/local/lib/python3.11/dist-packages (0.21.0+cu124)\n",
            "Requirement already satisfied: pillow in /usr/local/lib/python3.11/dist-packages (11.1.0)\n",
            "Requirement already satisfied: pandas in /usr/local/lib/python3.11/dist-packages (2.2.2)\n",
            "Requirement already satisfied: Werkzeug>=3.1 in /usr/local/lib/python3.11/dist-packages (from flask) (3.1.3)\n",
            "Requirement already satisfied: Jinja2>=3.1.2 in /usr/local/lib/python3.11/dist-packages (from flask) (3.1.6)\n",
            "Requirement already satisfied: itsdangerous>=2.2 in /usr/local/lib/python3.11/dist-packages (from flask) (2.2.0)\n",
            "Requirement already satisfied: click>=8.1.3 in /usr/local/lib/python3.11/dist-packages (from flask) (8.1.8)\n",
            "Requirement already satisfied: blinker>=1.9 in /usr/local/lib/python3.11/dist-packages (from flask) (1.9.0)\n",
            "Requirement already satisfied: numpy>=1.21.2 in /usr/local/lib/python3.11/dist-packages (from opencv-python) (2.0.2)\n",
            "Requirement already satisfied: filelock in /usr/local/lib/python3.11/dist-packages (from torch) (3.18.0)\n",
            "Requirement already satisfied: typing-extensions>=4.10.0 in /usr/local/lib/python3.11/dist-packages (from torch) (4.13.2)\n",
            "Requirement already satisfied: networkx in /usr/local/lib/python3.11/dist-packages (from torch) (3.4.2)\n",
            "Requirement already satisfied: fsspec in /usr/local/lib/python3.11/dist-packages (from torch) (2025.3.2)\n",
            "Collecting nvidia-cuda-nvrtc-cu12==12.4.127 (from torch)\n",
            "  Downloading nvidia_cuda_nvrtc_cu12-12.4.127-py3-none-manylinux2014_x86_64.whl.metadata (1.5 kB)\n",
            "Collecting nvidia-cuda-runtime-cu12==12.4.127 (from torch)\n",
            "  Downloading nvidia_cuda_runtime_cu12-12.4.127-py3-none-manylinux2014_x86_64.whl.metadata (1.5 kB)\n",
            "Collecting nvidia-cuda-cupti-cu12==12.4.127 (from torch)\n",
            "  Downloading nvidia_cuda_cupti_cu12-12.4.127-py3-none-manylinux2014_x86_64.whl.metadata (1.6 kB)\n",
            "Collecting nvidia-cudnn-cu12==9.1.0.70 (from torch)\n",
            "  Downloading nvidia_cudnn_cu12-9.1.0.70-py3-none-manylinux2014_x86_64.whl.metadata (1.6 kB)\n",
            "Collecting nvidia-cublas-cu12==12.4.5.8 (from torch)\n",
            "  Downloading nvidia_cublas_cu12-12.4.5.8-py3-none-manylinux2014_x86_64.whl.metadata (1.5 kB)\n",
            "Collecting nvidia-cufft-cu12==11.2.1.3 (from torch)\n",
            "  Downloading nvidia_cufft_cu12-11.2.1.3-py3-none-manylinux2014_x86_64.whl.metadata (1.5 kB)\n",
            "Collecting nvidia-curand-cu12==10.3.5.147 (from torch)\n",
            "  Downloading nvidia_curand_cu12-10.3.5.147-py3-none-manylinux2014_x86_64.whl.metadata (1.5 kB)\n",
            "Collecting nvidia-cusolver-cu12==11.6.1.9 (from torch)\n",
            "  Downloading nvidia_cusolver_cu12-11.6.1.9-py3-none-manylinux2014_x86_64.whl.metadata (1.6 kB)\n",
            "Collecting nvidia-cusparse-cu12==12.3.1.170 (from torch)\n",
            "  Downloading nvidia_cusparse_cu12-12.3.1.170-py3-none-manylinux2014_x86_64.whl.metadata (1.6 kB)\n",
            "Requirement already satisfied: nvidia-cusparselt-cu12==0.6.2 in /usr/local/lib/python3.11/dist-packages (from torch) (0.6.2)\n",
            "Requirement already satisfied: nvidia-nccl-cu12==2.21.5 in /usr/local/lib/python3.11/dist-packages (from torch) (2.21.5)\n",
            "Requirement already satisfied: nvidia-nvtx-cu12==12.4.127 in /usr/local/lib/python3.11/dist-packages (from torch) (12.4.127)\n",
            "Collecting nvidia-nvjitlink-cu12==12.4.127 (from torch)\n",
            "  Downloading nvidia_nvjitlink_cu12-12.4.127-py3-none-manylinux2014_x86_64.whl.metadata (1.5 kB)\n",
            "Requirement already satisfied: triton==3.2.0 in /usr/local/lib/python3.11/dist-packages (from torch) (3.2.0)\n",
            "Requirement already satisfied: sympy==1.13.1 in /usr/local/lib/python3.11/dist-packages (from torch) (1.13.1)\n",
            "Requirement already satisfied: mpmath<1.4,>=1.1.0 in /usr/local/lib/python3.11/dist-packages (from sympy==1.13.1->torch) (1.3.0)\n",
            "Requirement already satisfied: python-dateutil>=2.8.2 in /usr/local/lib/python3.11/dist-packages (from pandas) (2.8.2)\n",
            "Requirement already satisfied: pytz>=2020.1 in /usr/local/lib/python3.11/dist-packages (from pandas) (2025.2)\n",
            "Requirement already satisfied: tzdata>=2022.7 in /usr/local/lib/python3.11/dist-packages (from pandas) (2025.2)\n",
            "Requirement already satisfied: MarkupSafe>=2.0 in /usr/local/lib/python3.11/dist-packages (from Jinja2>=3.1.2->flask) (3.0.2)\n",
            "Requirement already satisfied: six>=1.5 in /usr/local/lib/python3.11/dist-packages (from python-dateutil>=2.8.2->pandas) (1.17.0)\n",
            "Downloading nvidia_cublas_cu12-12.4.5.8-py3-none-manylinux2014_x86_64.whl (363.4 MB)\n",
            "\u001b[2K   \u001b[90m━━━━━━━━━━━━━━━━━━━━━━━━━━━━━━━━━━━━━━━━\u001b[0m \u001b[32m363.4/363.4 MB\u001b[0m \u001b[31m4.1 MB/s\u001b[0m eta \u001b[36m0:00:00\u001b[0m\n",
            "\u001b[?25hDownloading nvidia_cuda_cupti_cu12-12.4.127-py3-none-manylinux2014_x86_64.whl (13.8 MB)\n",
            "\u001b[2K   \u001b[90m━━━━━━━━━━━━━━━━━━━━━━━━━━━━━━━━━━━━━━━━\u001b[0m \u001b[32m13.8/13.8 MB\u001b[0m \u001b[31m89.5 MB/s\u001b[0m eta \u001b[36m0:00:00\u001b[0m\n",
            "\u001b[?25hDownloading nvidia_cuda_nvrtc_cu12-12.4.127-py3-none-manylinux2014_x86_64.whl (24.6 MB)\n",
            "\u001b[2K   \u001b[90m━━━━━━━━━━━━━━━━━━━━━━━━━━━━━━━━━━━━━━━━\u001b[0m \u001b[32m24.6/24.6 MB\u001b[0m \u001b[31m28.6 MB/s\u001b[0m eta \u001b[36m0:00:00\u001b[0m\n",
            "\u001b[?25hDownloading nvidia_cuda_runtime_cu12-12.4.127-py3-none-manylinux2014_x86_64.whl (883 kB)\n",
            "\u001b[2K   \u001b[90m━━━━━━━━━━━━━━━━━━━━━━━━━━━━━━━━━━━━━━━━\u001b[0m \u001b[32m883.7/883.7 kB\u001b[0m \u001b[31m40.9 MB/s\u001b[0m eta \u001b[36m0:00:00\u001b[0m\n",
            "\u001b[?25hDownloading nvidia_cudnn_cu12-9.1.0.70-py3-none-manylinux2014_x86_64.whl (664.8 MB)\n",
            "\u001b[2K   \u001b[90m━━━━━━━━━━━━━━━━━━━━━━━━━━━━━━━━━━━━━━━━\u001b[0m \u001b[32m664.8/664.8 MB\u001b[0m \u001b[31m2.7 MB/s\u001b[0m eta \u001b[36m0:00:00\u001b[0m\n",
            "\u001b[?25hDownloading nvidia_cufft_cu12-11.2.1.3-py3-none-manylinux2014_x86_64.whl (211.5 MB)\n",
            "\u001b[2K   \u001b[90m━━━━━━━━━━━━━━━━━━━━━━━━━━━━━━━━━━━━━━━━\u001b[0m \u001b[32m211.5/211.5 MB\u001b[0m \u001b[31m5.9 MB/s\u001b[0m eta \u001b[36m0:00:00\u001b[0m\n",
            "\u001b[?25hDownloading nvidia_curand_cu12-10.3.5.147-py3-none-manylinux2014_x86_64.whl (56.3 MB)\n",
            "\u001b[2K   \u001b[90m━━━━━━━━━━━━━━━━━━━━━━━━━━━━━━━━━━━━━━━━\u001b[0m \u001b[32m56.3/56.3 MB\u001b[0m \u001b[31m12.9 MB/s\u001b[0m eta \u001b[36m0:00:00\u001b[0m\n",
            "\u001b[?25hDownloading nvidia_cusolver_cu12-11.6.1.9-py3-none-manylinux2014_x86_64.whl (127.9 MB)\n",
            "\u001b[2K   \u001b[90m━━━━━━━━━━━━━━━━━━━━━━━━━━━━━━━━━━━━━━━━\u001b[0m \u001b[32m127.9/127.9 MB\u001b[0m \u001b[31m7.4 MB/s\u001b[0m eta \u001b[36m0:00:00\u001b[0m\n",
            "\u001b[?25hDownloading nvidia_cusparse_cu12-12.3.1.170-py3-none-manylinux2014_x86_64.whl (207.5 MB)\n",
            "\u001b[2K   \u001b[90m━━━━━━━━━━━━━━━━━━━━━━━━━━━━━━━━━━━━━━━━\u001b[0m \u001b[32m207.5/207.5 MB\u001b[0m \u001b[31m5.7 MB/s\u001b[0m eta \u001b[36m0:00:00\u001b[0m\n",
            "\u001b[?25hDownloading nvidia_nvjitlink_cu12-12.4.127-py3-none-manylinux2014_x86_64.whl (21.1 MB)\n",
            "\u001b[2K   \u001b[90m━━━━━━━━━━━━━━━━━━━━━━━━━━━━━━━━━━━━━━━━\u001b[0m \u001b[32m21.1/21.1 MB\u001b[0m \u001b[31m58.3 MB/s\u001b[0m eta \u001b[36m0:00:00\u001b[0m\n",
            "\u001b[?25hInstalling collected packages: nvidia-nvjitlink-cu12, nvidia-curand-cu12, nvidia-cufft-cu12, nvidia-cuda-runtime-cu12, nvidia-cuda-nvrtc-cu12, nvidia-cuda-cupti-cu12, nvidia-cublas-cu12, nvidia-cusparse-cu12, nvidia-cudnn-cu12, nvidia-cusolver-cu12\n",
            "  Attempting uninstall: nvidia-nvjitlink-cu12\n",
            "    Found existing installation: nvidia-nvjitlink-cu12 12.5.82\n",
            "    Uninstalling nvidia-nvjitlink-cu12-12.5.82:\n",
            "      Successfully uninstalled nvidia-nvjitlink-cu12-12.5.82\n",
            "  Attempting uninstall: nvidia-curand-cu12\n",
            "    Found existing installation: nvidia-curand-cu12 10.3.6.82\n",
            "    Uninstalling nvidia-curand-cu12-10.3.6.82:\n",
            "      Successfully uninstalled nvidia-curand-cu12-10.3.6.82\n",
            "  Attempting uninstall: nvidia-cufft-cu12\n",
            "    Found existing installation: nvidia-cufft-cu12 11.2.3.61\n",
            "    Uninstalling nvidia-cufft-cu12-11.2.3.61:\n",
            "      Successfully uninstalled nvidia-cufft-cu12-11.2.3.61\n",
            "  Attempting uninstall: nvidia-cuda-runtime-cu12\n",
            "    Found existing installation: nvidia-cuda-runtime-cu12 12.5.82\n",
            "    Uninstalling nvidia-cuda-runtime-cu12-12.5.82:\n",
            "      Successfully uninstalled nvidia-cuda-runtime-cu12-12.5.82\n",
            "  Attempting uninstall: nvidia-cuda-nvrtc-cu12\n",
            "    Found existing installation: nvidia-cuda-nvrtc-cu12 12.5.82\n",
            "    Uninstalling nvidia-cuda-nvrtc-cu12-12.5.82:\n",
            "      Successfully uninstalled nvidia-cuda-nvrtc-cu12-12.5.82\n",
            "  Attempting uninstall: nvidia-cuda-cupti-cu12\n",
            "    Found existing installation: nvidia-cuda-cupti-cu12 12.5.82\n",
            "    Uninstalling nvidia-cuda-cupti-cu12-12.5.82:\n",
            "      Successfully uninstalled nvidia-cuda-cupti-cu12-12.5.82\n",
            "  Attempting uninstall: nvidia-cublas-cu12\n",
            "    Found existing installation: nvidia-cublas-cu12 12.5.3.2\n",
            "    Uninstalling nvidia-cublas-cu12-12.5.3.2:\n",
            "      Successfully uninstalled nvidia-cublas-cu12-12.5.3.2\n",
            "  Attempting uninstall: nvidia-cusparse-cu12\n",
            "    Found existing installation: nvidia-cusparse-cu12 12.5.1.3\n",
            "    Uninstalling nvidia-cusparse-cu12-12.5.1.3:\n",
            "      Successfully uninstalled nvidia-cusparse-cu12-12.5.1.3\n",
            "  Attempting uninstall: nvidia-cudnn-cu12\n",
            "    Found existing installation: nvidia-cudnn-cu12 9.3.0.75\n",
            "    Uninstalling nvidia-cudnn-cu12-9.3.0.75:\n",
            "      Successfully uninstalled nvidia-cudnn-cu12-9.3.0.75\n",
            "  Attempting uninstall: nvidia-cusolver-cu12\n",
            "    Found existing installation: nvidia-cusolver-cu12 11.6.3.83\n",
            "    Uninstalling nvidia-cusolver-cu12-11.6.3.83:\n",
            "      Successfully uninstalled nvidia-cusolver-cu12-11.6.3.83\n",
            "Successfully installed nvidia-cublas-cu12-12.4.5.8 nvidia-cuda-cupti-cu12-12.4.127 nvidia-cuda-nvrtc-cu12-12.4.127 nvidia-cuda-runtime-cu12-12.4.127 nvidia-cudnn-cu12-9.1.0.70 nvidia-cufft-cu12-11.2.1.3 nvidia-curand-cu12-10.3.5.147 nvidia-cusolver-cu12-11.6.1.9 nvidia-cusparse-cu12-12.3.1.170 nvidia-nvjitlink-cu12-12.4.127\n"
          ]
        }
      ],
      "source": [
        "!pip install flask opencv-python torch torchvision pillow pandas"
      ]
    },
    {
      "cell_type": "code",
      "source": [
        "!pip install pyngrok"
      ],
      "metadata": {
        "colab": {
          "base_uri": "https://localhost:8080/"
        },
        "id": "P9P62GUm6RGh",
        "outputId": "b9232f3a-a779-43e9-f5bc-6b7aba0eebf1"
      },
      "execution_count": null,
      "outputs": [
        {
          "output_type": "stream",
          "name": "stdout",
          "text": [
            "Collecting pyngrok\n",
            "  Downloading pyngrok-7.2.5-py3-none-any.whl.metadata (8.9 kB)\n",
            "Requirement already satisfied: PyYAML>=5.1 in /usr/local/lib/python3.11/dist-packages (from pyngrok) (6.0.2)\n",
            "Downloading pyngrok-7.2.5-py3-none-any.whl (23 kB)\n",
            "Installing collected packages: pyngrok\n",
            "Successfully installed pyngrok-7.2.5\n"
          ]
        }
      ]
    },
    {
      "cell_type": "code",
      "source": [
        "!ngrok config add-authtoken 2ueK7mAO9lTjjkw5IwrM2YSGs9T_35QUnzsg2QTCgQTGzLutS"
      ],
      "metadata": {
        "colab": {
          "base_uri": "https://localhost:8080/"
        },
        "id": "p0KtescF6xKe",
        "outputId": "c3fa4b3b-7e80-4b83-b185-6b05af16f10f"
      },
      "execution_count": null,
      "outputs": [
        {
          "output_type": "stream",
          "name": "stdout",
          "text": [
            "Authtoken saved to configuration file: /root/.config/ngrok/ngrok.yml\n"
          ]
        }
      ]
    },
    {
      "cell_type": "code",
      "source": [
        "!pip install flask flask-ngrok"
      ],
      "metadata": {
        "colab": {
          "base_uri": "https://localhost:8080/"
        },
        "id": "2bqaNLp0m_9r",
        "outputId": "5bff1e02-324f-4db7-f236-d1c1db31c2a7"
      },
      "execution_count": null,
      "outputs": [
        {
          "output_type": "stream",
          "name": "stdout",
          "text": [
            "Requirement already satisfied: flask in /usr/local/lib/python3.11/dist-packages (3.1.0)\n",
            "Collecting flask-ngrok\n",
            "  Downloading flask_ngrok-0.0.25-py3-none-any.whl.metadata (1.8 kB)\n",
            "Requirement already satisfied: Werkzeug>=3.1 in /usr/local/lib/python3.11/dist-packages (from flask) (3.1.3)\n",
            "Requirement already satisfied: Jinja2>=3.1.2 in /usr/local/lib/python3.11/dist-packages (from flask) (3.1.6)\n",
            "Requirement already satisfied: itsdangerous>=2.2 in /usr/local/lib/python3.11/dist-packages (from flask) (2.2.0)\n",
            "Requirement already satisfied: click>=8.1.3 in /usr/local/lib/python3.11/dist-packages (from flask) (8.1.8)\n",
            "Requirement already satisfied: blinker>=1.9 in /usr/local/lib/python3.11/dist-packages (from flask) (1.9.0)\n",
            "Requirement already satisfied: requests in /usr/local/lib/python3.11/dist-packages (from flask-ngrok) (2.32.3)\n",
            "Requirement already satisfied: MarkupSafe>=2.0 in /usr/local/lib/python3.11/dist-packages (from Jinja2>=3.1.2->flask) (3.0.2)\n",
            "Requirement already satisfied: charset-normalizer<4,>=2 in /usr/local/lib/python3.11/dist-packages (from requests->flask-ngrok) (3.4.1)\n",
            "Requirement already satisfied: idna<4,>=2.5 in /usr/local/lib/python3.11/dist-packages (from requests->flask-ngrok) (3.10)\n",
            "Requirement already satisfied: urllib3<3,>=1.21.1 in /usr/local/lib/python3.11/dist-packages (from requests->flask-ngrok) (2.3.0)\n",
            "Requirement already satisfied: certifi>=2017.4.17 in /usr/local/lib/python3.11/dist-packages (from requests->flask-ngrok) (2025.1.31)\n",
            "Downloading flask_ngrok-0.0.25-py3-none-any.whl (3.1 kB)\n",
            "Installing collected packages: flask-ngrok\n",
            "Successfully installed flask-ngrok-0.0.25\n"
          ]
        }
      ]
    },
    {
      "cell_type": "code",
      "source": [
        "!pip install flask flask-ngrok\n",
        "from flask import Flask, request, jsonify\n",
        "from pyngrok import ngrok\n",
        "import cv2\n",
        "import numpy as np\n",
        "import pandas as pd\n",
        "import torch\n",
        "import subprocess\n",
        "\n",
        "# Load trained YOLOv5 model\n",
        "model = torch.hub.load('ultralytics/yolov5', 'custom', path='/content/drive/MyDrive/Reduce_new_data/split/yolov5/runs/train/exp3/weights/best.pt', force_reload=True)\n",
        "\n",
        "# Load product price list\n",
        "billing_data = pd.read_csv('/content/drive/MyDrive/Reduce_new_data/product_prices.csv')  # Ensure this file exists with columns: \"Product\", \"Price\"\n",
        "\n",
        "# Flask API\n",
        "app = Flask(__name__)\n",
        "\n",
        "@app.route(\"/get_ngrok_url\")\n",
        "def get_ngrok_url():\n",
        "    try:\n",
        "        # Run `ngrok` command to get the public URL dynamically\n",
        "        result = subprocess.run([\"curl\", \"-s\", \"http://localhost:5000/api/tunnels\"], capture_output=True, text=True)\n",
        "        if result.returncode == 0:\n",
        "            import json\n",
        "            tunnels = json.loads(result.stdout)[\"tunnels\"]\n",
        "            public_url = tunnels[0][\"public_url\"] if tunnels else None\n",
        "            return jsonify({\"ngrok_url\": public_url})\n",
        "    except Exception as e:\n",
        "        return jsonify({\"error\": str(e)}), 500\n",
        "\n",
        "    return jsonify({\"ngrok_url\": None})\n",
        "\n",
        "@app.route('/')\n",
        "def home():\n",
        "    return send_file('/content/drive/MyDrive/Reduce_new_data/fronend_retail.html')\n",
        "\n",
        "@app.route('/upload', methods=['POST'])\n",
        "def upload_image():\n",
        "    # Receive image from frontend\n",
        "    file = request.files['image']\n",
        "    image_path = \"/content/drive/MyDrive/Reduce_new_data/test2019/20180824-14-05-08-13.jpg\"\n",
        "    file.save(image_path)\n",
        "\n",
        "    # Load image and run YOLO detection\n",
        "    img = cv2.imread(image_path)\n",
        "    results = model(img)\n",
        "    print(results)\n",
        "\n",
        "    # Extract detected product names\n",
        "    detected_products = results.pandas().xyxy[0]['name'].tolist()\n",
        "\n",
        "    # Generate bill\n",
        "    bill = []\n",
        "    total_price = 0\n",
        "    for product in detected_products:\n",
        "        if product in billing_data['Product'].values:\n",
        "            price = billing_data[billing_data['Product'] == product]['Price'].values[0]\n",
        "            bill.append({'Product': product, 'Price': price})\n",
        "            total_price += price\n",
        "\n",
        "    return jsonify({'detected_products': detected_products, 'bill': bill, 'total_price': total_price})\n",
        "\n",
        "public_url = ngrok.connect(5000)\n",
        "print(f\"Public URL: {public_url}\")\n",
        "print(\"hello\")\n",
        "print(app.url_map)\n",
        "# Run Flask server\n",
        "app.run(port=5000)\n"
      ],
      "metadata": {
        "colab": {
          "base_uri": "https://localhost:8080/"
        },
        "id": "hS_XQeQzK2CG",
        "outputId": "80caab3c-0bfe-4b08-9d0c-cc8990ec4cc8"
      },
      "execution_count": null,
      "outputs": [
        {
          "output_type": "stream",
          "name": "stdout",
          "text": [
            "Requirement already satisfied: flask in /usr/local/lib/python3.11/dist-packages (3.1.0)\n",
            "Collecting flask-ngrok\n",
            "  Downloading flask_ngrok-0.0.25-py3-none-any.whl.metadata (1.8 kB)\n",
            "Requirement already satisfied: Werkzeug>=3.1 in /usr/local/lib/python3.11/dist-packages (from flask) (3.1.3)\n",
            "Requirement already satisfied: Jinja2>=3.1.2 in /usr/local/lib/python3.11/dist-packages (from flask) (3.1.6)\n",
            "Requirement already satisfied: itsdangerous>=2.2 in /usr/local/lib/python3.11/dist-packages (from flask) (2.2.0)\n",
            "Requirement already satisfied: click>=8.1.3 in /usr/local/lib/python3.11/dist-packages (from flask) (8.1.8)\n",
            "Requirement already satisfied: blinker>=1.9 in /usr/local/lib/python3.11/dist-packages (from flask) (1.9.0)\n",
            "Requirement already satisfied: requests in /usr/local/lib/python3.11/dist-packages (from flask-ngrok) (2.32.3)\n",
            "Requirement already satisfied: MarkupSafe>=2.0 in /usr/local/lib/python3.11/dist-packages (from Jinja2>=3.1.2->flask) (3.0.2)\n",
            "Requirement already satisfied: charset-normalizer<4,>=2 in /usr/local/lib/python3.11/dist-packages (from requests->flask-ngrok) (3.4.1)\n",
            "Requirement already satisfied: idna<4,>=2.5 in /usr/local/lib/python3.11/dist-packages (from requests->flask-ngrok) (3.10)\n",
            "Requirement already satisfied: urllib3<3,>=1.21.1 in /usr/local/lib/python3.11/dist-packages (from requests->flask-ngrok) (2.3.0)\n",
            "Requirement already satisfied: certifi>=2017.4.17 in /usr/local/lib/python3.11/dist-packages (from requests->flask-ngrok) (2025.1.31)\n",
            "Downloading flask_ngrok-0.0.25-py3-none-any.whl (3.1 kB)\n",
            "Installing collected packages: flask-ngrok\n",
            "Successfully installed flask-ngrok-0.0.25\n"
          ]
        },
        {
          "output_type": "stream",
          "name": "stderr",
          "text": [
            "/usr/local/lib/python3.11/dist-packages/torch/hub.py:330: UserWarning: You are about to download and run code from an untrusted repository. In a future release, this won't be allowed. To add the repository to your trusted list, change the command to {calling_fn}(..., trust_repo=False) and a command prompt will appear asking for an explicit confirmation of trust, or load(..., trust_repo=True), which will assume that the prompt is to be answered with 'yes'. You can also use load(..., trust_repo='check') which will only prompt for confirmation if the repo is not already trusted. This will eventually be the default behaviour\n",
            "  warnings.warn(\n",
            "Downloading: \"https://github.com/ultralytics/yolov5/zipball/master\" to /root/.cache/torch/hub/master.zip\n"
          ]
        },
        {
          "output_type": "stream",
          "name": "stdout",
          "text": [
            "Creating new Ultralytics Settings v0.0.6 file ✅ \n",
            "View Ultralytics Settings with 'yolo settings' or at '/root/.config/Ultralytics/settings.json'\n",
            "Update Settings with 'yolo settings key=value', i.e. 'yolo settings runs_dir=path/to/dir'. For help see https://docs.ultralytics.com/quickstart/#ultralytics-settings.\n"
          ]
        },
        {
          "output_type": "stream",
          "name": "stderr",
          "text": [
            "YOLOv5 🚀 2025-4-1 Python-3.11.11 torch-2.6.0+cu124 CPU\n",
            "\n",
            "Fusing layers... \n",
            "YOLOv5s summary: 157 layers, 7055974 parameters, 0 gradients, 15.9 GFLOPs\n",
            "Adding AutoShape... \n"
          ]
        },
        {
          "output_type": "stream",
          "name": "stdout",
          "text": [
            "Public URL: NgrokTunnel: \"https://20fb-35-229-109-29.ngrok-free.app\" -> \"http://localhost:5000\"\n",
            "hello\n",
            "Map([<Rule '/static/<filename>' (HEAD, OPTIONS, GET) -> static>,\n",
            " <Rule '/get_ngrok_url' (HEAD, OPTIONS, GET) -> get_ngrok_url>,\n",
            " <Rule '/' (HEAD, OPTIONS, GET) -> home>,\n",
            " <Rule '/upload' (OPTIONS, POST) -> upload_image>])\n",
            " * Serving Flask app '__main__'\n",
            " * Debug mode: off\n"
          ]
        },
        {
          "output_type": "stream",
          "name": "stderr",
          "text": [
            "INFO:werkzeug:\u001b[31m\u001b[1mWARNING: This is a development server. Do not use it in a production deployment. Use a production WSGI server instead.\u001b[0m\n",
            " * Running on http://127.0.0.1:5000\n",
            "INFO:werkzeug:\u001b[33mPress CTRL+C to quit\u001b[0m\n",
            "ERROR:__main__:Exception on / [GET]\n",
            "Traceback (most recent call last):\n",
            "  File \"/usr/local/lib/python3.11/dist-packages/flask/app.py\", line 1511, in wsgi_app\n",
            "    response = self.full_dispatch_request()\n",
            "               ^^^^^^^^^^^^^^^^^^^^^^^^^^^^\n",
            "  File \"/usr/local/lib/python3.11/dist-packages/flask/app.py\", line 919, in full_dispatch_request\n",
            "    rv = self.handle_user_exception(e)\n",
            "         ^^^^^^^^^^^^^^^^^^^^^^^^^^^^^\n",
            "  File \"/usr/local/lib/python3.11/dist-packages/flask/app.py\", line 917, in full_dispatch_request\n",
            "    rv = self.dispatch_request()\n",
            "         ^^^^^^^^^^^^^^^^^^^^^^^\n",
            "  File \"/usr/local/lib/python3.11/dist-packages/flask/app.py\", line 902, in dispatch_request\n",
            "    return self.ensure_sync(self.view_functions[rule.endpoint])(**view_args)  # type: ignore[no-any-return]\n",
            "           ^^^^^^^^^^^^^^^^^^^^^^^^^^^^^^^^^^^^^^^^^^^^^^^^^^^^^^^^^^^^^^^^^\n",
            "  File \"<ipython-input-4-8b0ed734faf9>\", line 36, in home\n",
            "    return send_file('/content/drive/MyDrive/Reduce_new_data/fronend_retail.html')\n",
            "           ^^^^^^^^^\n",
            "NameError: name 'send_file' is not defined\n",
            "INFO:werkzeug:127.0.0.1 - - [01/Apr/2025 00:52:28] \"\u001b[35m\u001b[1mGET / HTTP/1.1\u001b[0m\" 500 -\n",
            "INFO:werkzeug:127.0.0.1 - - [01/Apr/2025 00:52:28] \"\u001b[33mGET /favicon.ico HTTP/1.1\u001b[0m\" 404 -\n"
          ]
        }
      ]
    },
    {
      "cell_type": "code",
      "source": [
        "!pip install ultralytics\n",
        "\n",
        "from ultralytics import YOLO"
      ],
      "metadata": {
        "colab": {
          "base_uri": "https://localhost:8080/"
        },
        "id": "7L_lRoZRw7yc",
        "outputId": "6844325e-4457-44ac-ccfc-a774adde6f5e"
      },
      "execution_count": null,
      "outputs": [
        {
          "output_type": "stream",
          "name": "stdout",
          "text": [
            "Collecting ultralytics\n",
            "  Downloading ultralytics-8.3.117-py3-none-any.whl.metadata (37 kB)\n",
            "Requirement already satisfied: numpy<=2.1.1,>=1.23.0 in /usr/local/lib/python3.11/dist-packages (from ultralytics) (2.0.2)\n",
            "Requirement already satisfied: matplotlib>=3.3.0 in /usr/local/lib/python3.11/dist-packages (from ultralytics) (3.10.0)\n",
            "Requirement already satisfied: opencv-python>=4.6.0 in /usr/local/lib/python3.11/dist-packages (from ultralytics) (4.11.0.86)\n",
            "Requirement already satisfied: pillow>=7.1.2 in /usr/local/lib/python3.11/dist-packages (from ultralytics) (11.1.0)\n",
            "Requirement already satisfied: pyyaml>=5.3.1 in /usr/local/lib/python3.11/dist-packages (from ultralytics) (6.0.2)\n",
            "Requirement already satisfied: requests>=2.23.0 in /usr/local/lib/python3.11/dist-packages (from ultralytics) (2.32.3)\n",
            "Requirement already satisfied: scipy>=1.4.1 in /usr/local/lib/python3.11/dist-packages (from ultralytics) (1.14.1)\n",
            "Requirement already satisfied: torch>=1.8.0 in /usr/local/lib/python3.11/dist-packages (from ultralytics) (2.6.0+cu124)\n",
            "Requirement already satisfied: torchvision>=0.9.0 in /usr/local/lib/python3.11/dist-packages (from ultralytics) (0.21.0+cu124)\n",
            "Requirement already satisfied: tqdm>=4.64.0 in /usr/local/lib/python3.11/dist-packages (from ultralytics) (4.67.1)\n",
            "Requirement already satisfied: psutil in /usr/local/lib/python3.11/dist-packages (from ultralytics) (5.9.5)\n",
            "Requirement already satisfied: py-cpuinfo in /usr/local/lib/python3.11/dist-packages (from ultralytics) (9.0.0)\n",
            "Requirement already satisfied: pandas>=1.1.4 in /usr/local/lib/python3.11/dist-packages (from ultralytics) (2.2.2)\n",
            "Requirement already satisfied: seaborn>=0.11.0 in /usr/local/lib/python3.11/dist-packages (from ultralytics) (0.13.2)\n",
            "Collecting ultralytics-thop>=2.0.0 (from ultralytics)\n",
            "  Downloading ultralytics_thop-2.0.14-py3-none-any.whl.metadata (9.4 kB)\n",
            "Requirement already satisfied: contourpy>=1.0.1 in /usr/local/lib/python3.11/dist-packages (from matplotlib>=3.3.0->ultralytics) (1.3.2)\n",
            "Requirement already satisfied: cycler>=0.10 in /usr/local/lib/python3.11/dist-packages (from matplotlib>=3.3.0->ultralytics) (0.12.1)\n",
            "Requirement already satisfied: fonttools>=4.22.0 in /usr/local/lib/python3.11/dist-packages (from matplotlib>=3.3.0->ultralytics) (4.57.0)\n",
            "Requirement already satisfied: kiwisolver>=1.3.1 in /usr/local/lib/python3.11/dist-packages (from matplotlib>=3.3.0->ultralytics) (1.4.8)\n",
            "Requirement already satisfied: packaging>=20.0 in /usr/local/lib/python3.11/dist-packages (from matplotlib>=3.3.0->ultralytics) (24.2)\n",
            "Requirement already satisfied: pyparsing>=2.3.1 in /usr/local/lib/python3.11/dist-packages (from matplotlib>=3.3.0->ultralytics) (3.2.3)\n",
            "Requirement already satisfied: python-dateutil>=2.7 in /usr/local/lib/python3.11/dist-packages (from matplotlib>=3.3.0->ultralytics) (2.8.2)\n",
            "Requirement already satisfied: pytz>=2020.1 in /usr/local/lib/python3.11/dist-packages (from pandas>=1.1.4->ultralytics) (2025.2)\n",
            "Requirement already satisfied: tzdata>=2022.7 in /usr/local/lib/python3.11/dist-packages (from pandas>=1.1.4->ultralytics) (2025.2)\n",
            "Requirement already satisfied: charset-normalizer<4,>=2 in /usr/local/lib/python3.11/dist-packages (from requests>=2.23.0->ultralytics) (3.4.1)\n",
            "Requirement already satisfied: idna<4,>=2.5 in /usr/local/lib/python3.11/dist-packages (from requests>=2.23.0->ultralytics) (3.10)\n",
            "Requirement already satisfied: urllib3<3,>=1.21.1 in /usr/local/lib/python3.11/dist-packages (from requests>=2.23.0->ultralytics) (2.3.0)\n",
            "Requirement already satisfied: certifi>=2017.4.17 in /usr/local/lib/python3.11/dist-packages (from requests>=2.23.0->ultralytics) (2025.1.31)\n",
            "Requirement already satisfied: filelock in /usr/local/lib/python3.11/dist-packages (from torch>=1.8.0->ultralytics) (3.18.0)\n",
            "Requirement already satisfied: typing-extensions>=4.10.0 in /usr/local/lib/python3.11/dist-packages (from torch>=1.8.0->ultralytics) (4.13.2)\n",
            "Requirement already satisfied: networkx in /usr/local/lib/python3.11/dist-packages (from torch>=1.8.0->ultralytics) (3.4.2)\n",
            "Requirement already satisfied: jinja2 in /usr/local/lib/python3.11/dist-packages (from torch>=1.8.0->ultralytics) (3.1.6)\n",
            "Requirement already satisfied: fsspec in /usr/local/lib/python3.11/dist-packages (from torch>=1.8.0->ultralytics) (2025.3.2)\n",
            "Requirement already satisfied: nvidia-cuda-nvrtc-cu12==12.4.127 in /usr/local/lib/python3.11/dist-packages (from torch>=1.8.0->ultralytics) (12.4.127)\n",
            "Requirement already satisfied: nvidia-cuda-runtime-cu12==12.4.127 in /usr/local/lib/python3.11/dist-packages (from torch>=1.8.0->ultralytics) (12.4.127)\n",
            "Requirement already satisfied: nvidia-cuda-cupti-cu12==12.4.127 in /usr/local/lib/python3.11/dist-packages (from torch>=1.8.0->ultralytics) (12.4.127)\n",
            "Requirement already satisfied: nvidia-cudnn-cu12==9.1.0.70 in /usr/local/lib/python3.11/dist-packages (from torch>=1.8.0->ultralytics) (9.1.0.70)\n",
            "Requirement already satisfied: nvidia-cublas-cu12==12.4.5.8 in /usr/local/lib/python3.11/dist-packages (from torch>=1.8.0->ultralytics) (12.4.5.8)\n",
            "Requirement already satisfied: nvidia-cufft-cu12==11.2.1.3 in /usr/local/lib/python3.11/dist-packages (from torch>=1.8.0->ultralytics) (11.2.1.3)\n",
            "Requirement already satisfied: nvidia-curand-cu12==10.3.5.147 in /usr/local/lib/python3.11/dist-packages (from torch>=1.8.0->ultralytics) (10.3.5.147)\n",
            "Requirement already satisfied: nvidia-cusolver-cu12==11.6.1.9 in /usr/local/lib/python3.11/dist-packages (from torch>=1.8.0->ultralytics) (11.6.1.9)\n",
            "Requirement already satisfied: nvidia-cusparse-cu12==12.3.1.170 in /usr/local/lib/python3.11/dist-packages (from torch>=1.8.0->ultralytics) (12.3.1.170)\n",
            "Requirement already satisfied: nvidia-cusparselt-cu12==0.6.2 in /usr/local/lib/python3.11/dist-packages (from torch>=1.8.0->ultralytics) (0.6.2)\n",
            "Requirement already satisfied: nvidia-nccl-cu12==2.21.5 in /usr/local/lib/python3.11/dist-packages (from torch>=1.8.0->ultralytics) (2.21.5)\n",
            "Requirement already satisfied: nvidia-nvtx-cu12==12.4.127 in /usr/local/lib/python3.11/dist-packages (from torch>=1.8.0->ultralytics) (12.4.127)\n",
            "Requirement already satisfied: nvidia-nvjitlink-cu12==12.4.127 in /usr/local/lib/python3.11/dist-packages (from torch>=1.8.0->ultralytics) (12.4.127)\n",
            "Requirement already satisfied: triton==3.2.0 in /usr/local/lib/python3.11/dist-packages (from torch>=1.8.0->ultralytics) (3.2.0)\n",
            "Requirement already satisfied: sympy==1.13.1 in /usr/local/lib/python3.11/dist-packages (from torch>=1.8.0->ultralytics) (1.13.1)\n",
            "Requirement already satisfied: mpmath<1.4,>=1.1.0 in /usr/local/lib/python3.11/dist-packages (from sympy==1.13.1->torch>=1.8.0->ultralytics) (1.3.0)\n",
            "Requirement already satisfied: six>=1.5 in /usr/local/lib/python3.11/dist-packages (from python-dateutil>=2.7->matplotlib>=3.3.0->ultralytics) (1.17.0)\n",
            "Requirement already satisfied: MarkupSafe>=2.0 in /usr/local/lib/python3.11/dist-packages (from jinja2->torch>=1.8.0->ultralytics) (3.0.2)\n",
            "Downloading ultralytics-8.3.117-py3-none-any.whl (984 kB)\n",
            "\u001b[2K   \u001b[90m━━━━━━━━━━━━━━━━━━━━━━━━━━━━━━━━━━━━━━━━\u001b[0m \u001b[32m984.2/984.2 kB\u001b[0m \u001b[31m17.1 MB/s\u001b[0m eta \u001b[36m0:00:00\u001b[0m\n",
            "\u001b[?25hDownloading ultralytics_thop-2.0.14-py3-none-any.whl (26 kB)\n",
            "Installing collected packages: ultralytics-thop, ultralytics\n",
            "Successfully installed ultralytics-8.3.117 ultralytics-thop-2.0.14\n",
            "Creating new Ultralytics Settings v0.0.6 file ✅ \n",
            "View Ultralytics Settings with 'yolo settings' or at '/root/.config/Ultralytics/settings.json'\n",
            "Update Settings with 'yolo settings key=value', i.e. 'yolo settings runs_dir=path/to/dir'. For help see https://docs.ultralytics.com/quickstart/#ultralytics-settings.\n"
          ]
        }
      ]
    },
    {
      "cell_type": "code",
      "source": [
        "from flask import Flask, request, jsonify, send_file\n",
        "from flask_ngrok import run_with_ngrok\n",
        "import cv2\n",
        "import numpy as np\n",
        "import pandas as pd\n",
        "import torch\n",
        "from pyngrok import ngrok\n",
        "import os\n",
        "\n",
        "# Initialize Flask app\n",
        "app = Flask(__name__)\n",
        "run_with_ngrok(app)  # Automatically starts ngrok\n",
        "\n",
        "# Load YOLOv8 trained model - 150 epochs - 1000 and 500\n",
        "model = YOLO('/content/drive/MyDrive/Val/runs/detect/val_split_1000/weights/best.pt')\n",
        "\n",
        "\n",
        "# Load billing data\n",
        "billing_data = pd.read_csv('/content/drive/MyDrive/Reduce_new_data/product_prices.csv')\n",
        "billing_data.columns = ['Product', 'Price']  # Ensure correct column names\n",
        "\n",
        "# Start ngrok\n",
        "public_url = ngrok.connect(5000)\n",
        "print(f\"Public URL: {public_url}\")\n",
        "\n",
        "# Ensure upload directory exists\n",
        "UPLOAD_FOLDER = \"/content/uploads\"\n",
        "os.makedirs(UPLOAD_FOLDER, exist_ok=True)\n",
        "\n",
        "@app.route('/')\n",
        "def home():\n",
        "    return send_file('/content/drive/MyDrive/Reduce_new_data/webpage.html')\n",
        "\n",
        "@app.route('/upload', methods=['POST'])\n",
        "def upload_image():\n",
        "    if 'image' not in request.files:\n",
        "        return jsonify({'error': 'No image provided'}), 400\n",
        "\n",
        "    file = request.files['image']\n",
        "    image_path = os.path.join(UPLOAD_FOLDER, file.filename)\n",
        "    file.save(image_path)\n",
        "\n",
        "    # Run YOLOv5 on the uploaded image\n",
        "    img = cv2.imread(image_path)\n",
        "    results = model(img)\n",
        "\n",
        "    # Extract detected product names\n",
        "    detected_products = []\n",
        "    for result in results:\n",
        "        class_indices = result.boxes.cls.tolist()  # Extract class indices\n",
        "        names_dict = result.names  # Class ID to Name mapping\n",
        "        detected_products.extend([names_dict[int(idx)] for idx in class_indices])\n",
        "\n",
        "    # Generate the bill\n",
        "    bill = []\n",
        "    total_price = 0\n",
        "    for product in detected_products:\n",
        "        product_info = billing_data[billing_data['Product'] == product]\n",
        "        if not product_info.empty:\n",
        "            price = product_info['Price'].values[0]\n",
        "            bill.append({'Product': product, 'Price': float(price)})\n",
        "            total_price += float(price)\n",
        "\n",
        "    response = {'detected_products': detected_products, 'bill': bill, 'total_price': total_price}\n",
        "    print(\"Response:\", response)  # Debugging log\n",
        "    return jsonify({'detected_products': detected_products, 'bill': bill, 'total_price': total_price})\n",
        "\n",
        "\n",
        "if __name__ == '__main__':\n",
        "    print(\"Server is starting...\")\n",
        "    app.run()\n"
      ],
      "metadata": {
        "colab": {
          "base_uri": "https://localhost:8080/"
        },
        "id": "GO1aNDNSAl8j",
        "outputId": "a01dad86-e703-48d6-f179-74f6e4387669"
      },
      "execution_count": null,
      "outputs": [
        {
          "output_type": "stream",
          "name": "stdout",
          "text": [
            "Public URL: NgrokTunnel: \"https://bd2a-34-148-111-178.ngrok-free.app\" -> \"http://localhost:5000\"\n",
            "Server is starting...\n",
            " * Serving Flask app '__main__'\n",
            " * Debug mode: off\n"
          ]
        },
        {
          "output_type": "stream",
          "name": "stderr",
          "text": [
            "INFO:werkzeug:\u001b[31m\u001b[1mWARNING: This is a development server. Do not use it in a production deployment. Use a production WSGI server instead.\u001b[0m\n",
            " * Running on http://127.0.0.1:5000\n",
            "INFO:werkzeug:\u001b[33mPress CTRL+C to quit\u001b[0m\n"
          ]
        },
        {
          "output_type": "stream",
          "name": "stdout",
          "text": [
            " * Running on http://bd2a-34-148-111-178.ngrok-free.app\n",
            " * Traffic stats available on http://127.0.0.1:4040\n"
          ]
        },
        {
          "output_type": "stream",
          "name": "stderr",
          "text": [
            "INFO:werkzeug:127.0.0.1 - - [15/Apr/2025 20:09:51] \"GET / HTTP/1.1\" 200 -\n",
            "INFO:werkzeug:127.0.0.1 - - [15/Apr/2025 20:09:52] \"\u001b[33mGET /favicon.ico HTTP/1.1\u001b[0m\" 404 -\n"
          ]
        },
        {
          "output_type": "stream",
          "name": "stdout",
          "text": [
            "\n",
            "0: 640x640 3 Drinks, 3 Chocolates, 3 Tissues, 1268.6ms\n",
            "Speed: 25.4ms preprocess, 1268.6ms inference, 41.8ms postprocess per image at shape (1, 3, 640, 640)\n"
          ]
        },
        {
          "output_type": "stream",
          "name": "stderr",
          "text": [
            "INFO:werkzeug:127.0.0.1 - - [15/Apr/2025 20:11:05] \"POST /upload HTTP/1.1\" 200 -\n"
          ]
        },
        {
          "output_type": "stream",
          "name": "stdout",
          "text": [
            "Response: {'detected_products': ['Drink', 'Tissue', 'Tissue', 'Drink', 'Drink', 'Chocolate', 'Chocolate', 'Tissue', 'Chocolate'], 'bill': [{'Product': 'Drink', 'Price': 1.99}, {'Product': 'Tissue', 'Price': 2.49}, {'Product': 'Tissue', 'Price': 2.49}, {'Product': 'Drink', 'Price': 1.99}, {'Product': 'Drink', 'Price': 1.99}, {'Product': 'Chocolate', 'Price': 2.49}, {'Product': 'Chocolate', 'Price': 2.49}, {'Product': 'Tissue', 'Price': 2.49}, {'Product': 'Chocolate', 'Price': 2.49}], 'total_price': 20.910000000000004}\n"
          ]
        },
        {
          "output_type": "stream",
          "name": "stderr",
          "text": [
            "INFO:werkzeug:127.0.0.1 - - [15/Apr/2025 20:11:41] \"\u001b[33mGET /payment?amount=20.91 HTTP/1.1\u001b[0m\" 404 -\n"
          ]
        }
      ]
    },
    {
      "cell_type": "code",
      "source": [
        "from flask import Flask, request, jsonify, send_file\n",
        "from flask_ngrok import run_with_ngrok\n",
        "import cv2\n",
        "import numpy as np\n",
        "import pandas as pd\n",
        "import torch\n",
        "from pyngrok import ngrok\n",
        "import os\n",
        "\n",
        "# Initialize Flask app\n",
        "app = Flask(__name__)\n",
        "run_with_ngrok(app)  # Automatically starts ngrok\n",
        "\n",
        "# Load YOLOv8 trained model - 1800/600 images - 180 epochs\n",
        "model = YOLO('/content/drive/MyDrive/retail_product_checkout_validation_filtered/runs/detect/train/weights/best.pt')\n",
        "\n",
        "# Load billing data\n",
        "billing_data = pd.read_csv('/content/drive/MyDrive/Reduce_new_data/product_prices.csv')\n",
        "billing_data.columns = ['Product', 'Price']  # Ensure correct column names\n",
        "\n",
        "# Start ngrok\n",
        "public_url = ngrok.connect(5000)\n",
        "print(f\"Public URL: {public_url}\")\n",
        "\n",
        "# Ensure upload directory exists\n",
        "UPLOAD_FOLDER = \"/content/uploads\"\n",
        "os.makedirs(UPLOAD_FOLDER, exist_ok=True)\n",
        "\n",
        "@app.route('/')\n",
        "def home():\n",
        "    return send_file('/content/drive/MyDrive/Reduce_new_data/webpage.html')\n",
        "\n",
        "@app.route('/upload', methods=['POST'])\n",
        "def upload_image():\n",
        "    if 'image' not in request.files:\n",
        "        return jsonify({'error': 'No image provided'}), 400\n",
        "\n",
        "    file = request.files['image']\n",
        "    image_path = os.path.join(UPLOAD_FOLDER, file.filename)\n",
        "    file.save(image_path)\n",
        "\n",
        "    # Run YOLOv5 on the uploaded image\n",
        "    img = cv2.imread(image_path)\n",
        "    results = model(img)\n",
        "\n",
        "    # Extract detected product names\n",
        "    detected_products = []\n",
        "    for result in results:\n",
        "        class_indices = result.boxes.cls.tolist()  # Extract class indices\n",
        "        names_dict = result.names  # Class ID to Name mapping\n",
        "        detected_products.extend([names_dict[int(idx)] for idx in class_indices])\n",
        "\n",
        "    # Generate the bill\n",
        "    bill = []\n",
        "    total_price = 0\n",
        "    for product in detected_products:\n",
        "        product_info = billing_data[billing_data['Product'] == product]\n",
        "        if not product_info.empty:\n",
        "            price = product_info['Price'].values[0]\n",
        "            bill.append({'Product': product, 'Price': float(price)})\n",
        "            total_price += float(price)\n",
        "\n",
        "    response = {'detected_products': detected_products, 'bill': bill, 'total_price': total_price}\n",
        "    print(\"Response:\", response)  # Debugging log\n",
        "    return jsonify({'detected_products': detected_products, 'bill': bill, 'total_price': total_price})\n",
        "\n",
        "\n",
        "if __name__ == '__main__':\n",
        "    print(\"Server is starting...\")\n",
        "    app.run()"
      ],
      "metadata": {
        "colab": {
          "base_uri": "https://localhost:8080/"
        },
        "id": "a03YqFIV0S-w",
        "outputId": "aadb0885-52de-4303-9beb-ed5e158482cf"
      },
      "execution_count": null,
      "outputs": [
        {
          "output_type": "stream",
          "name": "stdout",
          "text": [
            "Public URL: NgrokTunnel: \"https://b6f4-34-48-116-230.ngrok-free.app\" -> \"http://localhost:5000\"\n",
            "Server is starting...\n",
            " * Serving Flask app '__main__'\n",
            " * Debug mode: off\n"
          ]
        },
        {
          "output_type": "stream",
          "name": "stderr",
          "text": [
            "INFO:werkzeug:\u001b[31m\u001b[1mWARNING: This is a development server. Do not use it in a production deployment. Use a production WSGI server instead.\u001b[0m\n",
            " * Running on http://127.0.0.1:5000\n",
            "INFO:werkzeug:\u001b[33mPress CTRL+C to quit\u001b[0m\n"
          ]
        },
        {
          "output_type": "stream",
          "name": "stdout",
          "text": [
            " * Running on http://b6f4-34-48-116-230.ngrok-free.app\n",
            " * Traffic stats available on http://127.0.0.1:4040\n"
          ]
        },
        {
          "output_type": "stream",
          "name": "stderr",
          "text": [
            "INFO:werkzeug:127.0.0.1 - - [25/Apr/2025 18:19:52] \"GET / HTTP/1.1\" 200 -\n",
            "INFO:werkzeug:127.0.0.1 - - [25/Apr/2025 18:19:52] \"\u001b[33mGET /favicon.ico HTTP/1.1\u001b[0m\" 404 -\n"
          ]
        },
        {
          "output_type": "stream",
          "name": "stdout",
          "text": [
            "\n",
            "0: 640x640 3 Chocolates, 3 Drinks, 3 Puffed_Foods, 221.4ms\n",
            "Speed: 10.1ms preprocess, 221.4ms inference, 1.3ms postprocess per image at shape (1, 3, 640, 640)\n"
          ]
        },
        {
          "output_type": "stream",
          "name": "stderr",
          "text": [
            "INFO:werkzeug:127.0.0.1 - - [25/Apr/2025 18:19:59] \"POST /upload HTTP/1.1\" 200 -\n"
          ]
        },
        {
          "output_type": "stream",
          "name": "stdout",
          "text": [
            "Response: {'detected_products': ['Chocolate', 'Puffed_Food', 'Puffed_Food', 'Chocolate', 'Chocolate', 'Puffed_Food', 'Drink', 'Drink', 'Drink'], 'bill': [{'Product': 'Chocolate', 'Price': 2.49}, {'Product': 'Puffed_Food', 'Price': 2.79}, {'Product': 'Puffed_Food', 'Price': 2.79}, {'Product': 'Chocolate', 'Price': 2.49}, {'Product': 'Chocolate', 'Price': 2.49}, {'Product': 'Puffed_Food', 'Price': 2.79}, {'Product': 'Drink', 'Price': 1.99}, {'Product': 'Drink', 'Price': 1.99}, {'Product': 'Drink', 'Price': 1.99}], 'total_price': 21.809999999999995}\n"
          ]
        }
      ]
    },
    {
      "cell_type": "code",
      "source": [
        "# Final Yolov5, Yolov8 Model with Payment"
      ],
      "metadata": {
        "id": "0je57eIgFnf1"
      },
      "execution_count": null,
      "outputs": []
    },
    {
      "cell_type": "code",
      "source": [
        "from flask import Flask, request, jsonify, send_file\n",
        "from flask_ngrok import run_with_ngrok\n",
        "import cv2\n",
        "import numpy as np\n",
        "import pandas as pd\n",
        "import torch\n",
        "from pyngrok import ngrok\n",
        "import os\n",
        "from flask import send_from_directory\n",
        "\n",
        "# Initialize Flask app\n",
        "app = Flask(__name__)\n",
        "run_with_ngrok(app)  # Automatically starts ngrok\n",
        "\n",
        "# Load YOLOv5 trained model - shivangi\n",
        "model = torch.hub.load('ultralytics/yolov5', 'custom', path='/content/drive/MyDrive/Reduce_new_data/split/yolov5/runs/train/exp5/weights/best.pt', force_reload=True)\n",
        "\n",
        "# Load billing data\n",
        "billing_data = pd.read_csv('/content/drive/MyDrive/Reduce_new_data/product_prices.csv')\n",
        "billing_data.columns = ['Product', 'Price']  # Ensure correct column names\n",
        "\n",
        "# Start ngrok\n",
        "public_url = ngrok.connect(5000)\n",
        "print(f\"Public URL: {public_url}\")\n",
        "\n",
        "# Ensure upload directory exists\n",
        "UPLOAD_FOLDER = \"/content/uploads\"\n",
        "os.makedirs(UPLOAD_FOLDER, exist_ok=True)\n",
        "\n",
        "@app.route('/')\n",
        "def home():\n",
        "    return send_file('/content/drive/MyDrive/Reduce_new_data/webpage_design.html')\n",
        "\n",
        "@app.route('/upload', methods=['POST'])\n",
        "def upload_image():\n",
        "    if 'image' not in request.files:\n",
        "        return jsonify({'error': 'No image provided'}), 400\n",
        "\n",
        "    file = request.files['image']\n",
        "    image_path = os.path.join(UPLOAD_FOLDER, file.filename)\n",
        "    file.save(image_path)\n",
        "\n",
        "    # Read the image\n",
        "    img = cv2.imread(image_path)\n",
        "\n",
        "    # Run YOLOv5 detection\n",
        "    results = model(img)\n",
        "\n",
        "    # Get detected class indices\n",
        "    results_df = results.pandas().xyxy[0]\n",
        "    class_indices = results_df['name'].tolist()  # name is the product class\n",
        "    detected_products = class_indices  # Already strings\n",
        "\n",
        "    #detected_products = [names_dict[int(idx)] for idx in class_indices]\n",
        "\n",
        "    # Generate the bill\n",
        "    bill = []\n",
        "    total_price = 0\n",
        "    for product in detected_products:\n",
        "        product_info = billing_data[billing_data['Product'] == product]\n",
        "        if not product_info.empty:\n",
        "            price = product_info['Price'].values[0]\n",
        "            bill.append({'Product': product, 'Price': float(price)})\n",
        "            total_price += float(price)\n",
        "\n",
        "    response = {'detected_products': detected_products, 'bill': bill, 'total_price': total_price}\n",
        "    print(\"Response:\", response)  # Debugging\n",
        "    return jsonify(response)\n",
        "\n",
        "@app.route('/payment')\n",
        "def payment_page():\n",
        "    amount = request.args.get('amount', '0.00')\n",
        "    return send_file('/content/drive/MyDrive/Reduce_new_data/payment.html')\n",
        "\n",
        "\n",
        "@app.route('/payment/success', methods=['GET'])\n",
        "def payment_success():\n",
        "    return send_file('/content/drive/MyDrive/Reduce_new_data/success.html')\n",
        "\n",
        "if __name__ == '__main__':\n",
        "    print(\"Server is starting...\")\n",
        "    app.run()\n"
      ],
      "metadata": {
        "colab": {
          "base_uri": "https://localhost:8080/"
        },
        "id": "SEMzNVcSqUjp",
        "outputId": "3ce3bc0e-9d66-4e83-995a-7fd5d84ff574"
      },
      "execution_count": null,
      "outputs": [
        {
          "output_type": "stream",
          "name": "stderr",
          "text": [
            "/usr/local/lib/python3.11/dist-packages/torch/hub.py:330: UserWarning: You are about to download and run code from an untrusted repository. In a future release, this won't be allowed. To add the repository to your trusted list, change the command to {calling_fn}(..., trust_repo=False) and a command prompt will appear asking for an explicit confirmation of trust, or load(..., trust_repo=True), which will assume that the prompt is to be answered with 'yes'. You can also use load(..., trust_repo='check') which will only prompt for confirmation if the repo is not already trusted. This will eventually be the default behaviour\n",
            "  warnings.warn(\n",
            "Downloading: \"https://github.com/ultralytics/yolov5/zipball/master\" to /root/.cache/torch/hub/master.zip\n",
            "YOLOv5 🚀 2025-4-25 Python-3.11.12 torch-2.6.0+cu124 CPU\n",
            "\n",
            "Fusing layers... \n",
            "YOLOv5s summary: 157 layers, 7055974 parameters, 0 gradients, 15.9 GFLOPs\n",
            "Adding AutoShape... \n"
          ]
        },
        {
          "output_type": "stream",
          "name": "stdout",
          "text": [
            "Public URL: NgrokTunnel: \"https://834b-34-48-116-230.ngrok-free.app\" -> \"http://localhost:5000\"\n",
            "Server is starting...\n",
            " * Serving Flask app '__main__'\n",
            " * Debug mode: off\n"
          ]
        },
        {
          "output_type": "stream",
          "name": "stderr",
          "text": [
            "INFO:werkzeug:\u001b[31m\u001b[1mWARNING: This is a development server. Do not use it in a production deployment. Use a production WSGI server instead.\u001b[0m\n",
            " * Running on http://127.0.0.1:5000\n",
            "INFO:werkzeug:\u001b[33mPress CTRL+C to quit\u001b[0m\n"
          ]
        },
        {
          "output_type": "stream",
          "name": "stdout",
          "text": [
            " * Running on http://834b-34-48-116-230.ngrok-free.app\n",
            " * Traffic stats available on http://127.0.0.1:4040\n"
          ]
        },
        {
          "output_type": "stream",
          "name": "stderr",
          "text": [
            "INFO:werkzeug:127.0.0.1 - - [25/Apr/2025 17:48:03] \"GET / HTTP/1.1\" 200 -\n",
            "INFO:werkzeug:127.0.0.1 - - [25/Apr/2025 17:48:04] \"\u001b[33mGET /favicon.ico HTTP/1.1\u001b[0m\" 404 -\n",
            "/root/.cache/torch/hub/ultralytics_yolov5_master/models/common.py:906: FutureWarning: `torch.cuda.amp.autocast(args...)` is deprecated. Please use `torch.amp.autocast('cuda', args...)` instead.\n",
            "  with amp.autocast(autocast):\n",
            "INFO:werkzeug:127.0.0.1 - - [25/Apr/2025 17:48:11] \"POST /upload HTTP/1.1\" 200 -\n"
          ]
        },
        {
          "output_type": "stream",
          "name": "stdout",
          "text": [
            "Response: {'detected_products': ['Chocolate', 'Dessert', 'Dried_Fruit', 'Puffed_Food', 'Dried_Fruit', 'Dessert', 'Dessert', 'Chocolate', 'Instant_Drink', 'Instant_Drink', 'Tissue', 'Dried_Fruit', 'Personal_Hygiene'], 'bill': [{'Product': 'Chocolate', 'Price': 2.49}, {'Product': 'Dried_Fruit', 'Price': 6.99}, {'Product': 'Puffed_Food', 'Price': 2.79}, {'Product': 'Dried_Fruit', 'Price': 6.99}, {'Product': 'Chocolate', 'Price': 2.49}, {'Product': 'Instant_Drink', 'Price': 1.79}, {'Product': 'Instant_Drink', 'Price': 1.79}, {'Product': 'Tissue', 'Price': 2.49}, {'Product': 'Dried_Fruit', 'Price': 6.99}, {'Product': 'Personal_Hygiene', 'Price': 3.49}], 'total_price': 38.300000000000004}\n"
          ]
        },
        {
          "output_type": "stream",
          "name": "stderr",
          "text": [
            "INFO:werkzeug:127.0.0.1 - - [25/Apr/2025 17:48:12] \"GET /payment?amount=38.30 HTTP/1.1\" 200 -\n",
            "INFO:werkzeug:127.0.0.1 - - [25/Apr/2025 17:48:17] \"GET /payment/success HTTP/1.1\" 200 -\n",
            "INFO:werkzeug:127.0.0.1 - - [25/Apr/2025 17:48:20] \"\u001b[36mGET / HTTP/1.1\u001b[0m\" 304 -\n"
          ]
        }
      ]
    },
    {
      "cell_type": "code",
      "source": [
        "from flask import Flask, request, jsonify, send_file\n",
        "from flask_ngrok import run_with_ngrok\n",
        "import cv2\n",
        "import numpy as np\n",
        "import pandas as pd\n",
        "import torch\n",
        "from pyngrok import ngrok\n",
        "import os\n",
        "from flask import send_from_directory\n",
        "\n",
        "# Initialize Flask app\n",
        "app = Flask(__name__)\n",
        "run_with_ngrok(app)  # Automatically starts ngrok\n",
        "\n",
        "# Load YOLOv8 trained model - Vatsal\n",
        "model = YOLO('/content/drive/MyDrive/Val/runs/detect/val_split_1000/weights/best.pt')\n",
        "\n",
        "# Load billing data\n",
        "billing_data = pd.read_csv('/content/drive/MyDrive/Reduce_new_data/product_prices.csv')\n",
        "billing_data.columns = ['Product', 'Price']\n",
        "\n",
        "# Start ngrok\n",
        "public_url = ngrok.connect(5000)\n",
        "print(f\"Public URL: {public_url}\")\n",
        "\n",
        "# Ensure upload directory exists\n",
        "UPLOAD_FOLDER = \"/content/uploads\"\n",
        "os.makedirs(UPLOAD_FOLDER, exist_ok=True)\n",
        "\n",
        "@app.route('/')\n",
        "def home():\n",
        "    return send_file('/content/drive/MyDrive/Reduce_new_data/webpage_design.html')\n",
        "\n",
        "@app.route('/upload', methods=['POST'])\n",
        "def upload_image():\n",
        "    if 'image' not in request.files:\n",
        "        return jsonify({'error': 'No image provided'}), 400\n",
        "\n",
        "    try:\n",
        "        file = request.files['image']\n",
        "        image_path = os.path.join(UPLOAD_FOLDER, file.filename)\n",
        "        file.save(image_path)\n",
        "\n",
        "        img = cv2.imread(image_path)\n",
        "\n",
        "        # Run YOLOv8 detection\n",
        "        results = model(img)\n",
        "        result = results[0]\n",
        "\n",
        "        # Get class indices and map to names\n",
        "        class_ids = result.boxes.cls.cpu().numpy().astype(int)\n",
        "        detected_products = [model.names[i] for i in class_ids]\n",
        "\n",
        "        # Generate bill\n",
        "        bill = []\n",
        "        total_price = 0\n",
        "        for product in detected_products:\n",
        "            product_info = billing_data[billing_data['Product'] == product]\n",
        "            if not product_info.empty:\n",
        "                price = product_info['Price'].values[0]\n",
        "                bill.append({'Product': product, 'Price': float(price)})\n",
        "                total_price += float(price)\n",
        "\n",
        "        response = {'detected_products': detected_products, 'bill': bill, 'total_price': total_price}\n",
        "        return jsonify(response)\n",
        "\n",
        "    except Exception as e:\n",
        "        print(\"Error during upload_image:\", str(e))\n",
        "        return jsonify({'error': str(e)}), 500\n",
        "\n",
        "\n",
        "@app.route('/payment')\n",
        "def payment_page():\n",
        "    amount = request.args.get('amount', '0.00')\n",
        "    return send_file('/content/drive/MyDrive/Reduce_new_data/payment.html')\n",
        "\n",
        "\n",
        "@app.route('/payment/success', methods=['GET'])\n",
        "def payment_success():\n",
        "    return send_file('/content/drive/MyDrive/Reduce_new_data/success.html')\n",
        "\n",
        "if __name__ == '__main__':\n",
        "    print(\"Server is starting...\")\n",
        "    app.run()\n"
      ],
      "metadata": {
        "colab": {
          "base_uri": "https://localhost:8080/"
        },
        "id": "Dmro0apjEpSc",
        "outputId": "9b2f6331-5752-47d1-db05-53f6b34a94a6"
      },
      "execution_count": null,
      "outputs": [
        {
          "output_type": "stream",
          "name": "stdout",
          "text": [
            "Public URL: NgrokTunnel: \"https://b62b-34-48-116-230.ngrok-free.app\" -> \"http://localhost:5000\"\n",
            "Server is starting...\n",
            " * Serving Flask app '__main__'\n",
            " * Debug mode: off\n"
          ]
        },
        {
          "output_type": "stream",
          "name": "stderr",
          "text": [
            "INFO:werkzeug:\u001b[31m\u001b[1mWARNING: This is a development server. Do not use it in a production deployment. Use a production WSGI server instead.\u001b[0m\n",
            " * Running on http://127.0.0.1:5000\n",
            "INFO:werkzeug:\u001b[33mPress CTRL+C to quit\u001b[0m\n"
          ]
        },
        {
          "output_type": "stream",
          "name": "stdout",
          "text": [
            " * Running on http://b62b-34-48-116-230.ngrok-free.app\n",
            " * Traffic stats available on http://127.0.0.1:4040\n"
          ]
        },
        {
          "output_type": "stream",
          "name": "stderr",
          "text": [
            "INFO:werkzeug:127.0.0.1 - - [25/Apr/2025 17:54:01] \"GET / HTTP/1.1\" 200 -\n",
            "INFO:werkzeug:127.0.0.1 - - [25/Apr/2025 17:54:02] \"\u001b[33mGET /favicon.ico HTTP/1.1\u001b[0m\" 404 -\n"
          ]
        },
        {
          "output_type": "stream",
          "name": "stdout",
          "text": [
            "\n",
            "0: 640x640 3 Drinks, 3 Chocolates, 3 Tissues, 625.0ms\n",
            "Speed: 10.2ms preprocess, 625.0ms inference, 1.3ms postprocess per image at shape (1, 3, 640, 640)\n"
          ]
        },
        {
          "output_type": "stream",
          "name": "stderr",
          "text": [
            "INFO:werkzeug:127.0.0.1 - - [25/Apr/2025 17:54:08] \"POST /upload HTTP/1.1\" 200 -\n",
            "INFO:werkzeug:127.0.0.1 - - [25/Apr/2025 17:54:13] \"GET /payment?amount=20.91 HTTP/1.1\" 200 -\n",
            "INFO:werkzeug:127.0.0.1 - - [25/Apr/2025 17:54:16] \"GET /payment/success HTTP/1.1\" 200 -\n",
            "INFO:werkzeug:127.0.0.1 - - [25/Apr/2025 17:54:17] \"\u001b[36mGET / HTTP/1.1\u001b[0m\" 304 -\n"
          ]
        }
      ]
    },
    {
      "cell_type": "code",
      "source": [
        "!pip install reportlab"
      ],
      "metadata": {
        "colab": {
          "base_uri": "https://localhost:8080/"
        },
        "id": "bq3hVDUfP2dO",
        "outputId": "6cac2d72-9f05-415e-b3d9-a10827996652"
      },
      "execution_count": null,
      "outputs": [
        {
          "output_type": "stream",
          "name": "stdout",
          "text": [
            "Collecting reportlab\n",
            "  Downloading reportlab-4.4.0-py3-none-any.whl.metadata (1.8 kB)\n",
            "Requirement already satisfied: pillow>=9.0.0 in /usr/local/lib/python3.11/dist-packages (from reportlab) (11.1.0)\n",
            "Requirement already satisfied: chardet in /usr/local/lib/python3.11/dist-packages (from reportlab) (5.2.0)\n",
            "Downloading reportlab-4.4.0-py3-none-any.whl (2.0 MB)\n",
            "\u001b[2K   \u001b[90m━━━━━━━━━━━━━━━━━━━━━━━━━━━━━━━━━━━━━━━━\u001b[0m \u001b[32m2.0/2.0 MB\u001b[0m \u001b[31m20.9 MB/s\u001b[0m eta \u001b[36m0:00:00\u001b[0m\n",
            "\u001b[?25hInstalling collected packages: reportlab\n",
            "Successfully installed reportlab-4.4.0\n"
          ]
        }
      ]
    },
    {
      "cell_type": "code",
      "source": [
        "from flask import Flask, request, jsonify, send_file\n",
        "from flask_ngrok import run_with_ngrok\n",
        "import cv2\n",
        "import numpy as np\n",
        "import pandas as pd\n",
        "import torch\n",
        "from pyngrok import ngrok\n",
        "import os\n",
        "from flask import send_from_directory\n",
        "from collections import Counter\n",
        "from reportlab.lib.pagesizes import letter\n",
        "from reportlab.pdfgen import canvas\n",
        "from io import BytesIO\n",
        "\n",
        "# Initialize Flask app\n",
        "app = Flask(__name__)\n",
        "run_with_ngrok(app)  # Automatically starts ngrok\n",
        "\n",
        "# Load YOLOv8 trained model - Vaishnavi - 180 epoch\n",
        "model = YOLO('/content/drive/MyDrive/retail_product_checkout_validation_filtered/runs/detect/train/weights/best.pt')\n",
        "\n",
        "# Load billing data\n",
        "billing_data = pd.read_csv('/content/drive/MyDrive/Reduce_new_data/product_prices.csv')\n",
        "billing_data.columns = ['Product', 'Price']\n",
        "\n",
        "# Start ngrok\n",
        "public_url = ngrok.connect(5000)\n",
        "print(f\"Public URL: {public_url}\")\n",
        "\n",
        "# Ensure upload directory exists\n",
        "UPLOAD_FOLDER = \"/content/uploads\"\n",
        "os.makedirs(UPLOAD_FOLDER, exist_ok=True)\n",
        "\n",
        "@app.route('/')\n",
        "def home():\n",
        "    return send_file('/content/drive/MyDrive/Reduce_new_data/webpage_design.html')\n",
        "\n",
        "@app.route('/upload', methods=['POST'])\n",
        "def upload_image():\n",
        "    if 'image' not in request.files:\n",
        "        return jsonify({'error': 'No image provided'}), 400\n",
        "\n",
        "    try:\n",
        "        file = request.files['image']\n",
        "        image_path = os.path.join(UPLOAD_FOLDER, file.filename)\n",
        "        file.save(image_path)\n",
        "\n",
        "        img = cv2.imread(image_path)\n",
        "\n",
        "        # Run YOLOv8 detection\n",
        "        results = model(img)\n",
        "        result = results[0]\n",
        "\n",
        "        # Get class indices and map to names\n",
        "        class_ids = result.boxes.cls.cpu().numpy().astype(int)\n",
        "        detected_products = [model.names[i] for i in class_ids]\n",
        "\n",
        "        # Generate bill\n",
        "        bill = []\n",
        "        total_price = 0\n",
        "\n",
        "        # Count occurrences of each product\n",
        "        product_counts = Counter(detected_products)\n",
        "\n",
        "        for product, count in product_counts.items():\n",
        "            product_info = billing_data[billing_data['Product'] == product]\n",
        "            if not product_info.empty:\n",
        "                unit_price = float(product_info['Price'].values[0])\n",
        "                total = unit_price * count\n",
        "                bill.append({\n",
        "                    'Product': product,\n",
        "                    'Quantity': count,\n",
        "                    'Unit_Price': unit_price,\n",
        "                    'Total': total\n",
        "                })\n",
        "                total_price += total\n",
        "\n",
        "        response = {'detected_products': detected_products, 'bill': bill, 'total_price': total_price, 'total_items': sum(product_counts.values())}\n",
        "        return jsonify(response)\n",
        "\n",
        "    except Exception as e:\n",
        "        print(\"Error during upload_image:\", str(e))\n",
        "        return jsonify({'error': str(e)}), 500\n",
        "\n",
        "\n",
        "@app.route('/payment')\n",
        "def payment_page():\n",
        "    amount = request.args.get('amount', '0.00')\n",
        "    return send_file('/content/drive/MyDrive/Reduce_new_data/payment.html')\n",
        "\n",
        "\n",
        "@app.route('/payment/success', methods=['GET'])\n",
        "def payment_success():\n",
        "    return send_file('/content/drive/MyDrive/Reduce_new_data/success.html')\n",
        "\n",
        "@app.route('/download_bill', methods=['POST'])\n",
        "def download_bill():\n",
        "    data = request.get_json()\n",
        "\n",
        "    bill = data.get('bill', [])\n",
        "    total_price = data.get('total_price', 0)\n",
        "    total_items = data.get('total_items', 0)\n",
        "\n",
        "    # Generate PDF\n",
        "    buffer = BytesIO()\n",
        "    c = canvas.Canvas(buffer, pagesize=letter)\n",
        "    width, height = letter\n",
        "\n",
        "    y = height - 50\n",
        "    c.setFont(\"Helvetica-Bold\", 16)\n",
        "    c.drawString(50, y, \"Smart Retail Checkout - Final Bill\")\n",
        "    y -= 40\n",
        "\n",
        "    c.setFont(\"Helvetica-Bold\", 12)\n",
        "    c.drawString(50, y, \"Product\")\n",
        "    c.drawString(200, y, \"Qty\")\n",
        "    c.drawString(250, y, \"Unit Price\")\n",
        "    c.drawString(350, y, \"Total\")\n",
        "    y -= 20\n",
        "\n",
        "    c.setFont(\"Helvetica\", 12)\n",
        "    for item in bill:\n",
        "        c.drawString(50, y, item['Product'])\n",
        "        c.drawString(200, y, str(item['Quantity']))\n",
        "        c.drawString(250, y, f\"${item['Unit_Price']:.2f}\")\n",
        "        c.drawString(350, y, f\"${item['Total']:.2f}\")\n",
        "        y -= 20\n",
        "\n",
        "    y -= 10\n",
        "    c.line(50, y, 500, y)\n",
        "    y -= 30\n",
        "    c.setFont(\"Helvetica-Bold\", 12)\n",
        "    c.drawString(50, y, f\"Total Items: {total_items}\")\n",
        "    c.drawString(250, y, f\"Total Price: ${total_price:.2f}\")\n",
        "\n",
        "    c.save()\n",
        "    buffer.seek(0)\n",
        "\n",
        "    return send_file(buffer, as_attachment=True, download_name=\"final_bill.pdf\", mimetype='application/pdf')\n",
        "\n",
        "if __name__ == '__main__':\n",
        "    print(\"Server is starting...\")\n",
        "    app.run()\n"
      ],
      "metadata": {
        "colab": {
          "base_uri": "https://localhost:8080/"
        },
        "id": "SOdWrUqMF6QI",
        "outputId": "751f117f-e8fe-4d62-de72-7a0a83f2362c"
      },
      "execution_count": null,
      "outputs": [
        {
          "output_type": "stream",
          "name": "stdout",
          "text": [
            "Public URL: NgrokTunnel: \"https://3f4b-35-196-253-161.ngrok-free.app\" -> \"http://localhost:5000\"\n",
            "Server is starting...\n",
            " * Serving Flask app '__main__'\n",
            " * Debug mode: off\n"
          ]
        },
        {
          "output_type": "stream",
          "name": "stderr",
          "text": [
            "INFO:werkzeug:\u001b[31m\u001b[1mWARNING: This is a development server. Do not use it in a production deployment. Use a production WSGI server instead.\u001b[0m\n",
            " * Running on http://127.0.0.1:5000\n",
            "INFO:werkzeug:\u001b[33mPress CTRL+C to quit\u001b[0m\n"
          ]
        },
        {
          "output_type": "stream",
          "name": "stdout",
          "text": [
            " * Running on http://3f4b-35-196-253-161.ngrok-free.app\n",
            " * Traffic stats available on http://127.0.0.1:4040\n"
          ]
        },
        {
          "output_type": "stream",
          "name": "stderr",
          "text": [
            "INFO:werkzeug:127.0.0.1 - - [26/Apr/2025 16:31:51] \"GET / HTTP/1.1\" 200 -\n",
            "INFO:werkzeug:127.0.0.1 - - [26/Apr/2025 16:31:52] \"\u001b[33mGET /favicon.ico HTTP/1.1\u001b[0m\" 404 -\n"
          ]
        }
      ]
    },
    {
      "cell_type": "code",
      "source": [
        "from flask import Flask, request, jsonify, send_file\n",
        "from flask_ngrok import run_with_ngrok\n",
        "import cv2\n",
        "import numpy as np\n",
        "import pandas as pd\n",
        "import torch\n",
        "from pyngrok import ngrok\n",
        "import os\n",
        "from flask import send_from_directory\n",
        "from collections import Counter\n",
        "from reportlab.lib.pagesizes import letter\n",
        "from reportlab.pdfgen import canvas\n",
        "from io import BytesIO\n",
        "\n",
        "# Initialize Flask app\n",
        "app = Flask(__name__)\n",
        "run_with_ngrok(app)  # Automatically starts ngrok\n",
        "\n",
        "# Load YOLOv8 trained model - Vaishnavi - 180 epoch\n",
        "model = YOLO('/content/drive/MyDrive/retail_product_checkout_validation_filtered/detect_250_epochs/train/weights/best.pt')\n",
        "\n",
        "# Load billing data\n",
        "billing_data = pd.read_csv('/content/drive/MyDrive/Reduce_new_data/product_prices.csv')\n",
        "billing_data.columns = ['Product', 'Price']\n",
        "\n",
        "# Start ngrok\n",
        "public_url = ngrok.connect(5000)\n",
        "print(f\"Public URL: {public_url}\")\n",
        "\n",
        "# Ensure upload directory exists\n",
        "UPLOAD_FOLDER = \"/content/uploads\"\n",
        "os.makedirs(UPLOAD_FOLDER, exist_ok=True)\n",
        "\n",
        "@app.route('/')\n",
        "def home():\n",
        "    return send_file('/content/drive/MyDrive/Reduce_new_data/webpage_design.html')\n",
        "\n",
        "@app.route('/upload', methods=['POST'])\n",
        "def upload_image():\n",
        "    if 'image' not in request.files:\n",
        "        return jsonify({'error': 'No image provided'}), 400\n",
        "\n",
        "    try:\n",
        "        file = request.files['image']\n",
        "        image_path = os.path.join(UPLOAD_FOLDER, file.filename)\n",
        "        file.save(image_path)\n",
        "\n",
        "        img = cv2.imread(image_path)\n",
        "\n",
        "        # Run YOLOv8 detection\n",
        "        results = model(img)\n",
        "        result = results[0]\n",
        "\n",
        "        # Get class indices and map to names\n",
        "        class_ids = result.boxes.cls.cpu().numpy().astype(int)\n",
        "        detected_products = [model.names[i] for i in class_ids]\n",
        "\n",
        "        # Generate bill\n",
        "        bill = []\n",
        "        total_price = 0\n",
        "\n",
        "        # Count occurrences of each product\n",
        "        product_counts = Counter(detected_products)\n",
        "\n",
        "        for product, count in product_counts.items():\n",
        "            product_info = billing_data[billing_data['Product'] == product]\n",
        "            if not product_info.empty:\n",
        "                unit_price = float(product_info['Price'].values[0])\n",
        "                total = unit_price * count\n",
        "                bill.append({\n",
        "                    'Product': product,\n",
        "                    'Quantity': count,\n",
        "                    'Unit_Price': unit_price,\n",
        "                    'Total': total\n",
        "                })\n",
        "                total_price += total\n",
        "\n",
        "        response = {'detected_products': detected_products, 'bill': bill, 'total_price': total_price, 'total_items': sum(product_counts.values())}\n",
        "        return jsonify(response)\n",
        "\n",
        "    except Exception as e:\n",
        "        print(\"Error during upload_image:\", str(e))\n",
        "        return jsonify({'error': str(e)}), 500\n",
        "\n",
        "\n",
        "@app.route('/payment')\n",
        "def payment_page():\n",
        "    amount = request.args.get('amount', '0.00')\n",
        "    return send_file('/content/drive/MyDrive/Reduce_new_data/payment.html')\n",
        "\n",
        "\n",
        "@app.route('/payment/success', methods=['GET'])\n",
        "def payment_success():\n",
        "    return send_file('/content/drive/MyDrive/Reduce_new_data/success.html')\n",
        "\n",
        "@app.route('/download_bill', methods=['POST'])\n",
        "def download_bill():\n",
        "    data = request.get_json()\n",
        "\n",
        "    bill = data.get('bill', [])\n",
        "    total_price = data.get('total_price', 0)\n",
        "    total_items = data.get('total_items', 0)\n",
        "\n",
        "    # Generate PDF\n",
        "    buffer = BytesIO()\n",
        "    c = canvas.Canvas(buffer, pagesize=letter)\n",
        "    width, height = letter\n",
        "\n",
        "    y = height - 50\n",
        "    c.setFont(\"Helvetica-Bold\", 16)\n",
        "    c.drawString(50, y, \"Smart Retail Checkout - Final Bill\")\n",
        "    y -= 40\n",
        "\n",
        "    c.setFont(\"Helvetica-Bold\", 12)\n",
        "    c.drawString(50, y, \"Product\")\n",
        "    c.drawString(200, y, \"Qty\")\n",
        "    c.drawString(250, y, \"Unit Price\")\n",
        "    c.drawString(350, y, \"Total\")\n",
        "    y -= 20\n",
        "\n",
        "    c.setFont(\"Helvetica\", 12)\n",
        "    for item in bill:\n",
        "        c.drawString(50, y, item['Product'])\n",
        "        c.drawString(200, y, str(item['Quantity']))\n",
        "        c.drawString(250, y, f\"${item['Unit_Price']:.2f}\")\n",
        "        c.drawString(350, y, f\"${item['Total']:.2f}\")\n",
        "        y -= 20\n",
        "\n",
        "    y -= 10\n",
        "    c.line(50, y, 500, y)\n",
        "    y -= 30\n",
        "    c.setFont(\"Helvetica-Bold\", 12)\n",
        "    c.drawString(50, y, f\"Total Items: {total_items}\")\n",
        "    c.drawString(250, y, f\"Total Price: ${total_price:.2f}\")\n",
        "\n",
        "    c.save()\n",
        "    buffer.seek(0)\n",
        "\n",
        "    return send_file(buffer, as_attachment=True, download_name=\"final_bill.pdf\", mimetype='application/pdf')\n",
        "\n",
        "if __name__ == '__main__':\n",
        "    print(\"Server is starting...\")\n",
        "    app.run()\n"
      ],
      "metadata": {
        "colab": {
          "base_uri": "https://localhost:8080/"
        },
        "id": "y-FkKlvWTsbd",
        "outputId": "d83f8e92-6294-49e6-ed9c-8dad0f6a7bcf"
      },
      "execution_count": null,
      "outputs": [
        {
          "output_type": "stream",
          "name": "stdout",
          "text": [
            "Public URL: NgrokTunnel: \"https://f337-34-48-116-230.ngrok-free.app\" -> \"http://localhost:5000\"\n",
            "Server is starting...\n",
            " * Serving Flask app '__main__'\n",
            " * Debug mode: off\n"
          ]
        },
        {
          "output_type": "stream",
          "name": "stderr",
          "text": [
            "INFO:werkzeug:\u001b[31m\u001b[1mWARNING: This is a development server. Do not use it in a production deployment. Use a production WSGI server instead.\u001b[0m\n",
            " * Running on http://127.0.0.1:5000\n",
            "INFO:werkzeug:\u001b[33mPress CTRL+C to quit\u001b[0m\n"
          ]
        },
        {
          "output_type": "stream",
          "name": "stdout",
          "text": [
            " * Running on http://f337-34-48-116-230.ngrok-free.app\n",
            " * Traffic stats available on http://127.0.0.1:4040\n"
          ]
        },
        {
          "output_type": "stream",
          "name": "stderr",
          "text": [
            "INFO:werkzeug:127.0.0.1 - - [25/Apr/2025 20:30:05] \"GET / HTTP/1.1\" 200 -\n",
            "INFO:werkzeug:127.0.0.1 - - [25/Apr/2025 20:30:06] \"\u001b[33mGET /favicon.ico HTTP/1.1\u001b[0m\" 404 -\n"
          ]
        },
        {
          "output_type": "stream",
          "name": "stdout",
          "text": [
            "\n",
            "0: 640x640 1 Personal_Hygiene, 1 Alcohol, 3 Drinks, 3 Desserts, 237.5ms\n",
            "Speed: 7.9ms preprocess, 237.5ms inference, 2.0ms postprocess per image at shape (1, 3, 640, 640)\n"
          ]
        },
        {
          "output_type": "stream",
          "name": "stderr",
          "text": [
            "INFO:werkzeug:127.0.0.1 - - [25/Apr/2025 20:30:14] \"POST /upload HTTP/1.1\" 200 -\n"
          ]
        },
        {
          "output_type": "stream",
          "name": "stdout",
          "text": [
            "\n",
            "0: 640x640 1 Stationery, 3 Canned_Foods, 3 Desserts, 331.9ms\n",
            "Speed: 6.3ms preprocess, 331.9ms inference, 1.7ms postprocess per image at shape (1, 3, 640, 640)\n"
          ]
        },
        {
          "output_type": "stream",
          "name": "stderr",
          "text": [
            "INFO:werkzeug:127.0.0.1 - - [25/Apr/2025 20:30:25] \"POST /upload HTTP/1.1\" 200 -\n"
          ]
        },
        {
          "output_type": "stream",
          "name": "stdout",
          "text": [
            "\n",
            "0: 640x640 2 Milks, 3 Alcohols, 1 Drink, 1 Puffed_Food, 348.3ms\n",
            "Speed: 13.7ms preprocess, 348.3ms inference, 5.9ms postprocess per image at shape (1, 3, 640, 640)\n"
          ]
        },
        {
          "output_type": "stream",
          "name": "stderr",
          "text": [
            "INFO:werkzeug:127.0.0.1 - - [25/Apr/2025 20:31:24] \"POST /upload HTTP/1.1\" 200 -\n"
          ]
        },
        {
          "output_type": "stream",
          "name": "stdout",
          "text": [
            "\n",
            "0: 640x640 2 Chocolates, 1 Alcohol, 1 Dried_Fruit, 2 Dried_Foods, 221.0ms\n",
            "Speed: 6.0ms preprocess, 221.0ms inference, 3.0ms postprocess per image at shape (1, 3, 640, 640)\n"
          ]
        },
        {
          "output_type": "stream",
          "name": "stderr",
          "text": [
            "INFO:werkzeug:127.0.0.1 - - [25/Apr/2025 20:32:00] \"POST /upload HTTP/1.1\" 200 -\n"
          ]
        },
        {
          "output_type": "stream",
          "name": "stdout",
          "text": [
            "\n",
            "0: 480x640 1 Personal_Hygiene, 1 Puffed_Food, 2 Dried_Foods, 176.5ms\n",
            "Speed: 5.8ms preprocess, 176.5ms inference, 1.1ms postprocess per image at shape (1, 3, 480, 640)\n"
          ]
        },
        {
          "output_type": "stream",
          "name": "stderr",
          "text": [
            "INFO:werkzeug:127.0.0.1 - - [25/Apr/2025 20:33:04] \"POST /upload HTTP/1.1\" 200 -\n"
          ]
        }
      ]
    },
    {
      "cell_type": "code",
      "source": [
        "billing_data = pd.read_csv('/content/drive/MyDrive/Reduce_new_data/product_prices.csv')"
      ],
      "metadata": {
        "id": "FgVL8x-Y1D4Q"
      },
      "execution_count": null,
      "outputs": []
    },
    {
      "cell_type": "code",
      "source": [
        "billing_data.head()"
      ],
      "metadata": {
        "colab": {
          "base_uri": "https://localhost:8080/",
          "height": 206
        },
        "id": "kY6XgYp71FPK",
        "outputId": "32e4af4c-9982-4b01-9567-5c151867b450"
      },
      "execution_count": null,
      "outputs": [
        {
          "output_type": "execute_result",
          "data": {
            "text/plain": [
              "            Product   Price\n",
              "0       Canned_Food    2.99\n",
              "1              Milk    1.49\n",
              "2             Drink    1.99\n",
              "3         Alcohol\\t   10.99\n",
              "4  Personal_Hygiene    3.49"
            ],
            "text/html": [
              "\n",
              "  <div id=\"df-898b7c1d-fb1f-46b6-a960-5efce7df3a3d\" class=\"colab-df-container\">\n",
              "    <div>\n",
              "<style scoped>\n",
              "    .dataframe tbody tr th:only-of-type {\n",
              "        vertical-align: middle;\n",
              "    }\n",
              "\n",
              "    .dataframe tbody tr th {\n",
              "        vertical-align: top;\n",
              "    }\n",
              "\n",
              "    .dataframe thead th {\n",
              "        text-align: right;\n",
              "    }\n",
              "</style>\n",
              "<table border=\"1\" class=\"dataframe\">\n",
              "  <thead>\n",
              "    <tr style=\"text-align: right;\">\n",
              "      <th></th>\n",
              "      <th>Product</th>\n",
              "      <th>Price</th>\n",
              "    </tr>\n",
              "  </thead>\n",
              "  <tbody>\n",
              "    <tr>\n",
              "      <th>0</th>\n",
              "      <td>Canned_Food</td>\n",
              "      <td>2.99</td>\n",
              "    </tr>\n",
              "    <tr>\n",
              "      <th>1</th>\n",
              "      <td>Milk</td>\n",
              "      <td>1.49</td>\n",
              "    </tr>\n",
              "    <tr>\n",
              "      <th>2</th>\n",
              "      <td>Drink</td>\n",
              "      <td>1.99</td>\n",
              "    </tr>\n",
              "    <tr>\n",
              "      <th>3</th>\n",
              "      <td>Alcohol\\t</td>\n",
              "      <td>10.99</td>\n",
              "    </tr>\n",
              "    <tr>\n",
              "      <th>4</th>\n",
              "      <td>Personal_Hygiene</td>\n",
              "      <td>3.49</td>\n",
              "    </tr>\n",
              "  </tbody>\n",
              "</table>\n",
              "</div>\n",
              "    <div class=\"colab-df-buttons\">\n",
              "\n",
              "  <div class=\"colab-df-container\">\n",
              "    <button class=\"colab-df-convert\" onclick=\"convertToInteractive('df-898b7c1d-fb1f-46b6-a960-5efce7df3a3d')\"\n",
              "            title=\"Convert this dataframe to an interactive table.\"\n",
              "            style=\"display:none;\">\n",
              "\n",
              "  <svg xmlns=\"http://www.w3.org/2000/svg\" height=\"24px\" viewBox=\"0 -960 960 960\">\n",
              "    <path d=\"M120-120v-720h720v720H120Zm60-500h600v-160H180v160Zm220 220h160v-160H400v160Zm0 220h160v-160H400v160ZM180-400h160v-160H180v160Zm440 0h160v-160H620v160ZM180-180h160v-160H180v160Zm440 0h160v-160H620v160Z\"/>\n",
              "  </svg>\n",
              "    </button>\n",
              "\n",
              "  <style>\n",
              "    .colab-df-container {\n",
              "      display:flex;\n",
              "      gap: 12px;\n",
              "    }\n",
              "\n",
              "    .colab-df-convert {\n",
              "      background-color: #E8F0FE;\n",
              "      border: none;\n",
              "      border-radius: 50%;\n",
              "      cursor: pointer;\n",
              "      display: none;\n",
              "      fill: #1967D2;\n",
              "      height: 32px;\n",
              "      padding: 0 0 0 0;\n",
              "      width: 32px;\n",
              "    }\n",
              "\n",
              "    .colab-df-convert:hover {\n",
              "      background-color: #E2EBFA;\n",
              "      box-shadow: 0px 1px 2px rgba(60, 64, 67, 0.3), 0px 1px 3px 1px rgba(60, 64, 67, 0.15);\n",
              "      fill: #174EA6;\n",
              "    }\n",
              "\n",
              "    .colab-df-buttons div {\n",
              "      margin-bottom: 4px;\n",
              "    }\n",
              "\n",
              "    [theme=dark] .colab-df-convert {\n",
              "      background-color: #3B4455;\n",
              "      fill: #D2E3FC;\n",
              "    }\n",
              "\n",
              "    [theme=dark] .colab-df-convert:hover {\n",
              "      background-color: #434B5C;\n",
              "      box-shadow: 0px 1px 3px 1px rgba(0, 0, 0, 0.15);\n",
              "      filter: drop-shadow(0px 1px 2px rgba(0, 0, 0, 0.3));\n",
              "      fill: #FFFFFF;\n",
              "    }\n",
              "  </style>\n",
              "\n",
              "    <script>\n",
              "      const buttonEl =\n",
              "        document.querySelector('#df-898b7c1d-fb1f-46b6-a960-5efce7df3a3d button.colab-df-convert');\n",
              "      buttonEl.style.display =\n",
              "        google.colab.kernel.accessAllowed ? 'block' : 'none';\n",
              "\n",
              "      async function convertToInteractive(key) {\n",
              "        const element = document.querySelector('#df-898b7c1d-fb1f-46b6-a960-5efce7df3a3d');\n",
              "        const dataTable =\n",
              "          await google.colab.kernel.invokeFunction('convertToInteractive',\n",
              "                                                    [key], {});\n",
              "        if (!dataTable) return;\n",
              "\n",
              "        const docLinkHtml = 'Like what you see? Visit the ' +\n",
              "          '<a target=\"_blank\" href=https://colab.research.google.com/notebooks/data_table.ipynb>data table notebook</a>'\n",
              "          + ' to learn more about interactive tables.';\n",
              "        element.innerHTML = '';\n",
              "        dataTable['output_type'] = 'display_data';\n",
              "        await google.colab.output.renderOutput(dataTable, element);\n",
              "        const docLink = document.createElement('div');\n",
              "        docLink.innerHTML = docLinkHtml;\n",
              "        element.appendChild(docLink);\n",
              "      }\n",
              "    </script>\n",
              "  </div>\n",
              "\n",
              "\n",
              "<div id=\"df-831293c7-b001-44bd-b539-de2ad2e6c687\">\n",
              "  <button class=\"colab-df-quickchart\" onclick=\"quickchart('df-831293c7-b001-44bd-b539-de2ad2e6c687')\"\n",
              "            title=\"Suggest charts\"\n",
              "            style=\"display:none;\">\n",
              "\n",
              "<svg xmlns=\"http://www.w3.org/2000/svg\" height=\"24px\"viewBox=\"0 0 24 24\"\n",
              "     width=\"24px\">\n",
              "    <g>\n",
              "        <path d=\"M19 3H5c-1.1 0-2 .9-2 2v14c0 1.1.9 2 2 2h14c1.1 0 2-.9 2-2V5c0-1.1-.9-2-2-2zM9 17H7v-7h2v7zm4 0h-2V7h2v10zm4 0h-2v-4h2v4z\"/>\n",
              "    </g>\n",
              "</svg>\n",
              "  </button>\n",
              "\n",
              "<style>\n",
              "  .colab-df-quickchart {\n",
              "      --bg-color: #E8F0FE;\n",
              "      --fill-color: #1967D2;\n",
              "      --hover-bg-color: #E2EBFA;\n",
              "      --hover-fill-color: #174EA6;\n",
              "      --disabled-fill-color: #AAA;\n",
              "      --disabled-bg-color: #DDD;\n",
              "  }\n",
              "\n",
              "  [theme=dark] .colab-df-quickchart {\n",
              "      --bg-color: #3B4455;\n",
              "      --fill-color: #D2E3FC;\n",
              "      --hover-bg-color: #434B5C;\n",
              "      --hover-fill-color: #FFFFFF;\n",
              "      --disabled-bg-color: #3B4455;\n",
              "      --disabled-fill-color: #666;\n",
              "  }\n",
              "\n",
              "  .colab-df-quickchart {\n",
              "    background-color: var(--bg-color);\n",
              "    border: none;\n",
              "    border-radius: 50%;\n",
              "    cursor: pointer;\n",
              "    display: none;\n",
              "    fill: var(--fill-color);\n",
              "    height: 32px;\n",
              "    padding: 0;\n",
              "    width: 32px;\n",
              "  }\n",
              "\n",
              "  .colab-df-quickchart:hover {\n",
              "    background-color: var(--hover-bg-color);\n",
              "    box-shadow: 0 1px 2px rgba(60, 64, 67, 0.3), 0 1px 3px 1px rgba(60, 64, 67, 0.15);\n",
              "    fill: var(--button-hover-fill-color);\n",
              "  }\n",
              "\n",
              "  .colab-df-quickchart-complete:disabled,\n",
              "  .colab-df-quickchart-complete:disabled:hover {\n",
              "    background-color: var(--disabled-bg-color);\n",
              "    fill: var(--disabled-fill-color);\n",
              "    box-shadow: none;\n",
              "  }\n",
              "\n",
              "  .colab-df-spinner {\n",
              "    border: 2px solid var(--fill-color);\n",
              "    border-color: transparent;\n",
              "    border-bottom-color: var(--fill-color);\n",
              "    animation:\n",
              "      spin 1s steps(1) infinite;\n",
              "  }\n",
              "\n",
              "  @keyframes spin {\n",
              "    0% {\n",
              "      border-color: transparent;\n",
              "      border-bottom-color: var(--fill-color);\n",
              "      border-left-color: var(--fill-color);\n",
              "    }\n",
              "    20% {\n",
              "      border-color: transparent;\n",
              "      border-left-color: var(--fill-color);\n",
              "      border-top-color: var(--fill-color);\n",
              "    }\n",
              "    30% {\n",
              "      border-color: transparent;\n",
              "      border-left-color: var(--fill-color);\n",
              "      border-top-color: var(--fill-color);\n",
              "      border-right-color: var(--fill-color);\n",
              "    }\n",
              "    40% {\n",
              "      border-color: transparent;\n",
              "      border-right-color: var(--fill-color);\n",
              "      border-top-color: var(--fill-color);\n",
              "    }\n",
              "    60% {\n",
              "      border-color: transparent;\n",
              "      border-right-color: var(--fill-color);\n",
              "    }\n",
              "    80% {\n",
              "      border-color: transparent;\n",
              "      border-right-color: var(--fill-color);\n",
              "      border-bottom-color: var(--fill-color);\n",
              "    }\n",
              "    90% {\n",
              "      border-color: transparent;\n",
              "      border-bottom-color: var(--fill-color);\n",
              "    }\n",
              "  }\n",
              "</style>\n",
              "\n",
              "  <script>\n",
              "    async function quickchart(key) {\n",
              "      const quickchartButtonEl =\n",
              "        document.querySelector('#' + key + ' button');\n",
              "      quickchartButtonEl.disabled = true;  // To prevent multiple clicks.\n",
              "      quickchartButtonEl.classList.add('colab-df-spinner');\n",
              "      try {\n",
              "        const charts = await google.colab.kernel.invokeFunction(\n",
              "            'suggestCharts', [key], {});\n",
              "      } catch (error) {\n",
              "        console.error('Error during call to suggestCharts:', error);\n",
              "      }\n",
              "      quickchartButtonEl.classList.remove('colab-df-spinner');\n",
              "      quickchartButtonEl.classList.add('colab-df-quickchart-complete');\n",
              "    }\n",
              "    (() => {\n",
              "      let quickchartButtonEl =\n",
              "        document.querySelector('#df-831293c7-b001-44bd-b539-de2ad2e6c687 button');\n",
              "      quickchartButtonEl.style.display =\n",
              "        google.colab.kernel.accessAllowed ? 'block' : 'none';\n",
              "    })();\n",
              "  </script>\n",
              "</div>\n",
              "\n",
              "    </div>\n",
              "  </div>\n"
            ],
            "application/vnd.google.colaboratory.intrinsic+json": {
              "type": "dataframe",
              "variable_name": "billing_data",
              "summary": "{\n  \"name\": \"billing_data\",\n  \"rows\": 17,\n  \"fields\": [\n    {\n      \"column\": \"Product\",\n      \"properties\": {\n        \"dtype\": \"string\",\n        \"num_unique_values\": 17,\n        \"samples\": [\n          \"Canned_Food\",\n          \"Milk\",\n          \"Tissue\"\n        ],\n        \"semantic_type\": \"\",\n        \"description\": \"\"\n      }\n    },\n    {\n      \"column\": \" Price\",\n      \"properties\": {\n        \"dtype\": \"number\",\n        \"std\": 2.577775488786453,\n        \"min\": 0.99,\n        \"max\": 10.99,\n        \"num_unique_values\": 16,\n        \"samples\": [\n          2.99,\n          1.49,\n          2.49\n        ],\n        \"semantic_type\": \"\",\n        \"description\": \"\"\n      }\n    }\n  ]\n}"
            }
          },
          "metadata": {},
          "execution_count": 20
        }
      ]
    },
    {
      "cell_type": "code",
      "source": [
        "!ngrok --version"
      ],
      "metadata": {
        "colab": {
          "base_uri": "https://localhost:8080/"
        },
        "id": "YQgpjmwGPt5-",
        "outputId": "c5c0c223-30cf-48a1-fdec-e67c73458e78"
      },
      "execution_count": null,
      "outputs": [
        {
          "output_type": "stream",
          "name": "stdout",
          "text": [
            "ngrok version 3.22.0\n",
            "pyngrok version 7.2.3\n"
          ]
        }
      ]
    },
    {
      "cell_type": "code",
      "source": [],
      "metadata": {
        "id": "TjtcsQ_8DsgM"
      },
      "execution_count": null,
      "outputs": []
    }
  ]
}